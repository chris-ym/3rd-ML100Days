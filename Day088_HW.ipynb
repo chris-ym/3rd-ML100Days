{
 "cells": [
  {
   "cell_type": "markdown",
   "metadata": {},
   "source": [
    "## Work\n",
    "1. 請嘗試寫一個 callback 用來記錄各類別在訓練過程中，對驗證集的 True Positive 與 True Negative"
   ]
  },
  {
   "cell_type": "code",
   "execution_count": 1,
   "metadata": {},
   "outputs": [
    {
     "name": "stderr",
     "output_type": "stream",
     "text": [
      "Using TensorFlow backend.\n"
     ]
    }
   ],
   "source": [
    "import os\n",
    "import keras\n",
    "\n",
    "# Disable GPU\n",
    "os.environ[\"CUDA_VISIBLE_DEVICES\"] = \"\""
   ]
  },
  {
   "cell_type": "code",
   "execution_count": 2,
   "metadata": {},
   "outputs": [],
   "source": [
    "train, test = keras.datasets.cifar10.load_data()"
   ]
  },
  {
   "cell_type": "code",
   "execution_count": 3,
   "metadata": {},
   "outputs": [],
   "source": [
    "## 資料前處理\n",
    "def preproc_x(x, flatten=True):\n",
    "    x = x / 255.\n",
    "    if flatten:\n",
    "        x = x.reshape((len(x), -1))\n",
    "    return x\n",
    "\n",
    "def preproc_y(y, num_classes=10):\n",
    "    if y.shape[-1] == 1:\n",
    "        y = keras.utils.to_categorical(y, num_classes)\n",
    "    return y    "
   ]
  },
  {
   "cell_type": "code",
   "execution_count": 4,
   "metadata": {},
   "outputs": [],
   "source": [
    "x_train, y_train = train\n",
    "x_test, y_test = test\n",
    "\n",
    "# Preproc the inputs\n",
    "x_train = preproc_x(x_train)\n",
    "x_test = preproc_x(x_test)\n",
    "\n",
    "# Preprc the outputs\n",
    "y_train = preproc_y(y_train)\n",
    "y_test = preproc_y(y_test)"
   ]
  },
  {
   "cell_type": "code",
   "execution_count": 5,
   "metadata": {},
   "outputs": [],
   "source": [
    "from keras.layers import BatchNormalization\n",
    "def build_mlp(input_shape, output_units=10, num_neurons=[512, 256, 128]):\n",
    "    input_layer = keras.layers.Input(input_shape)\n",
    "    \n",
    "    for i, n_units in enumerate(num_neurons):\n",
    "        if i == 0:\n",
    "            x = keras.layers.Dense(units=n_units, \n",
    "                                   activation=\"relu\", \n",
    "                                   name=\"hidden_layer\"+str(i+1))(input_layer)\n",
    "            x = BatchNormalization()(x)\n",
    "        else:\n",
    "            x = keras.layers.Dense(units=n_units, \n",
    "                                   activation=\"relu\", \n",
    "                                   name=\"hidden_layer\"+str(i+1))(x)\n",
    "            x = BatchNormalization()(x)\n",
    "    \n",
    "    out = keras.layers.Dense(units=output_units, activation=\"softmax\", name=\"output\")(x)\n",
    "    \n",
    "    model = keras.models.Model(inputs=[input_layer], outputs=[out])\n",
    "    return model"
   ]
  },
  {
   "cell_type": "code",
   "execution_count": 6,
   "metadata": {},
   "outputs": [],
   "source": [
    "## 超參數設定\n",
    "LEARNING_RATE = 1e-3\n",
    "EPOCHS = 25\n",
    "BATCH_SIZE = 1024\n",
    "MOMENTUM = 0.95"
   ]
  },
  {
   "cell_type": "code",
   "execution_count": 15,
   "metadata": {},
   "outputs": [],
   "source": [
    "# 載入 Callbacks\n",
    "from keras.callbacks import Callback\n",
    "import numpy as np\n",
    "\n",
    "# Record_fp_tp\n",
    "class Record_tp_tn(Callback):\n",
    "    def on_train_begin(self, epoch, logs = {}):\n",
    "        logs = logs or {}\n",
    "        record_items = [\"val_auc\", \"val_f1sc\", \"val_fp\", \"val_fn\", \"val_tp\", \"val_tn\"]\n",
    "        for i in record_items:\n",
    "            if i not in self.params['metrics']:\n",
    "                self.params['metrics'].append(i)\n",
    "                \n",
    "    def on_epoch_end(self,epoch,logs={},thres=0.5):\n",
    "        logs=logs or {}\n",
    "        y_true=self.validation_data[1].argmax(axis=1)\n",
    "        y_pred=self.model.predict(self.validation_data[0])\n",
    "        y_pred=(y_pred[:,1]>=thres)*1\n",
    "        #np.logical_and用來判斷是否符合括號內的條件\n",
    "        logs['val_tp'] = np.sum(np.logical_and(y_pred == 1, y_true == 1))\n",
    "        logs['val_tn'] = np.sum(np.logical_and(y_pred == 0, y_true == 0))\n",
    "        \n",
    "        \n",
    "rec_tptn = Record_tp_tn()"
   ]
  },
  {
   "cell_type": "code",
   "execution_count": 18,
   "metadata": {
    "scrolled": true
   },
   "outputs": [
    {
     "name": "stdout",
     "output_type": "stream",
     "text": [
      "Model: \"model_5\"\n",
      "_________________________________________________________________\n",
      "Layer (type)                 Output Shape              Param #   \n",
      "=================================================================\n",
      "input_5 (InputLayer)         (None, 3072)              0         \n",
      "_________________________________________________________________\n",
      "hidden_layer1 (Dense)        (None, 512)               1573376   \n",
      "_________________________________________________________________\n",
      "batch_normalization_13 (Batc (None, 512)               2048      \n",
      "_________________________________________________________________\n",
      "hidden_layer2 (Dense)        (None, 256)               131328    \n",
      "_________________________________________________________________\n",
      "batch_normalization_14 (Batc (None, 256)               1024      \n",
      "_________________________________________________________________\n",
      "hidden_layer3 (Dense)        (None, 128)               32896     \n",
      "_________________________________________________________________\n",
      "batch_normalization_15 (Batc (None, 128)               512       \n",
      "_________________________________________________________________\n",
      "output (Dense)               (None, 10)                1290      \n",
      "=================================================================\n",
      "Total params: 1,742,474\n",
      "Trainable params: 1,740,682\n",
      "Non-trainable params: 1,792\n",
      "_________________________________________________________________\n",
      "Train on 50000 samples, validate on 10000 samples\n",
      "Epoch 1/25\n",
      "50000/50000 [==============================] - 10s 195us/step - loss: 2.2114 - accuracy: 0.2641 - val_loss: 2.1739 - val_accuracy: 0.1691\n",
      "Epoch 2/25\n",
      "50000/50000 [==============================] - 10s 200us/step - loss: 1.7377 - accuracy: 0.3915 - val_loss: 1.9923 - val_accuracy: 0.2724\n",
      "Epoch 3/25\n",
      "50000/50000 [==============================] - 11s 215us/step - loss: 1.6134 - accuracy: 0.4360 - val_loss: 1.8427 - val_accuracy: 0.3519\n",
      "Epoch 4/25\n",
      "50000/50000 [==============================] - 8s 166us/step - loss: 1.5428 - accuracy: 0.4600 - val_loss: 1.7348 - val_accuracy: 0.3977\n",
      "Epoch 5/25\n",
      "50000/50000 [==============================] - 6s 123us/step - loss: 1.4895 - accuracy: 0.4795 - val_loss: 1.6637 - val_accuracy: 0.4153\n",
      "Epoch 6/25\n",
      "50000/50000 [==============================] - 6s 125us/step - loss: 1.4449 - accuracy: 0.4964 - val_loss: 1.5895 - val_accuracy: 0.4352\n",
      "Epoch 7/25\n",
      "50000/50000 [==============================] - 6s 124us/step - loss: 1.4045 - accuracy: 0.5112 - val_loss: 1.5556 - val_accuracy: 0.4505\n",
      "Epoch 8/25\n",
      "50000/50000 [==============================] - 7s 139us/step - loss: 1.3691 - accuracy: 0.5239 - val_loss: 1.5256 - val_accuracy: 0.4602\n",
      "Epoch 9/25\n",
      "50000/50000 [==============================] - 7s 146us/step - loss: 1.3367 - accuracy: 0.5377 - val_loss: 1.4968 - val_accuracy: 0.4687\n",
      "Epoch 10/25\n",
      "50000/50000 [==============================] - 7s 148us/step - loss: 1.3071 - accuracy: 0.5471 - val_loss: 1.4891 - val_accuracy: 0.4769\n",
      "Epoch 11/25\n",
      "50000/50000 [==============================] - 7s 145us/step - loss: 1.2789 - accuracy: 0.5556 - val_loss: 1.4751 - val_accuracy: 0.4776\n",
      "Epoch 12/25\n",
      "50000/50000 [==============================] - 8s 160us/step - loss: 1.2525 - accuracy: 0.5672 - val_loss: 1.4761 - val_accuracy: 0.4785\n",
      "Epoch 13/25\n",
      "50000/50000 [==============================] - 8s 167us/step - loss: 1.2288 - accuracy: 0.5741 - val_loss: 1.4618 - val_accuracy: 0.4813\n",
      "Epoch 14/25\n",
      "50000/50000 [==============================] - 6s 116us/step - loss: 1.2038 - accuracy: 0.5852 - val_loss: 1.4635 - val_accuracy: 0.4845\n",
      "Epoch 15/25\n",
      "50000/50000 [==============================] - 8s 153us/step - loss: 1.1808 - accuracy: 0.5933 - val_loss: 1.4559 - val_accuracy: 0.4864\n",
      "Epoch 16/25\n",
      "50000/50000 [==============================] - 8s 153us/step - loss: 1.1558 - accuracy: 0.6017 - val_loss: 1.4563 - val_accuracy: 0.4906\n",
      "Epoch 17/25\n",
      "50000/50000 [==============================] - 6s 129us/step - loss: 1.1333 - accuracy: 0.6120 - val_loss: 1.4519 - val_accuracy: 0.4900\n",
      "Epoch 18/25\n",
      "50000/50000 [==============================] - 7s 143us/step - loss: 1.1124 - accuracy: 0.6175 - val_loss: 1.4457 - val_accuracy: 0.4935\n",
      "Epoch 19/25\n",
      "50000/50000 [==============================] - 7s 131us/step - loss: 1.0889 - accuracy: 0.6265 - val_loss: 1.4492 - val_accuracy: 0.4925\n",
      "Epoch 20/25\n",
      "50000/50000 [==============================] - 8s 151us/step - loss: 1.0665 - accuracy: 0.6359 - val_loss: 1.4517 - val_accuracy: 0.4941\n",
      "Epoch 21/25\n",
      "50000/50000 [==============================] - 8s 159us/step - loss: 1.0461 - accuracy: 0.6437 - val_loss: 1.4534 - val_accuracy: 0.4930\n",
      "Epoch 22/25\n",
      "50000/50000 [==============================] - 8s 151us/step - loss: 1.0253 - accuracy: 0.6519 - val_loss: 1.4505 - val_accuracy: 0.4947\n",
      "Epoch 23/25\n",
      "50000/50000 [==============================] - 7s 136us/step - loss: 1.0038 - accuracy: 0.6608 - val_loss: 1.4548 - val_accuracy: 0.4971\n",
      "Epoch 24/25\n",
      "50000/50000 [==============================] - 6s 130us/step - loss: 0.9830 - accuracy: 0.6685 - val_loss: 1.4481 - val_accuracy: 0.5003\n",
      "Epoch 25/25\n",
      "50000/50000 [==============================] - 6s 120us/step - loss: 0.9617 - accuracy: 0.6759 - val_loss: 1.4564 - val_accuracy: 0.4999\n"
     ]
    }
   ],
   "source": [
    "model = build_mlp(input_shape=x_train.shape[1:])\n",
    "model.summary()\n",
    "optimizer = keras.optimizers.SGD(lr=LEARNING_RATE, nesterov=True, momentum=MOMENTUM)\n",
    "model.compile(loss=\"categorical_crossentropy\", metrics=[\"accuracy\"], optimizer=optimizer)\n",
    "\n",
    "\"\"\"Code Here\n",
    "將 callbacks 放入模型訓練流程中\n",
    "\"\"\"\n",
    "model.fit(x_train,y_train,\n",
    "         epochs=EPOCHS,\n",
    "         batch_size=BATCH_SIZE,\n",
    "         validation_data=(x_test,y_test),\n",
    "         shuffle=True,\n",
    "         callbacks=[rec_tptn])\n",
    "\n",
    "# Collect results\n",
    "train_loss = model.history.history[\"loss\"]\n",
    "valid_loss = model.history.history[\"val_loss\"]\n",
    "train_acc = model.history.history[\"accuracy\"]\n",
    "valid_acc = model.history.history[\"val_accuracy\"]\n",
    "\n",
    "\"\"\"Code Here\n",
    "將 tp/tn 從訓練完的模型中取出\n",
    "\"\"\"\n",
    "valid_tp = model.history.history['val_tp']\n",
    "valid_tn = model.history.history['val_tn']"
   ]
  },
  {
   "cell_type": "code",
   "execution_count": 19,
   "metadata": {},
   "outputs": [
    {
     "data": {
      "image/png": "[encoded data removed]",
      "text/plain": [
       "<Figure size 432x288 with 1 Axes>"
      ]
     },
     "metadata": {
      "needs_background": "light"
     },
     "output_type": "display_data"
    },
    {
     "data": {
      "image/png": "[encoded data removed]",
      "text/plain": [
       "<Figure size 432x288 with 1 Axes>"
      ]
     },
     "metadata": {
      "needs_background": "light"
     },
     "output_type": "display_data"
    },
    {
     "data": {
      "image/png": "[encoded data removed]",
      "text/plain": [
       "<Figure size 432x288 with 1 Axes>"
      ]
     },
     "metadata": {
      "needs_background": "light"
     },
     "output_type": "display_data"
    }
   ],
   "source": [
    "import matplotlib.pyplot as plt\n",
    "%matplotlib inline\n",
    "\n",
    "plt.plot(range(len(train_loss)), train_loss, label=\"train loss\")\n",
    "plt.plot(range(len(valid_loss)), valid_loss, label=\"valid loss\")\n",
    "plt.legend()\n",
    "plt.title(\"Loss\")\n",
    "plt.show()\n",
    "\n",
    "plt.plot(range(len(train_acc)), train_acc, label=\"train accuracy\")\n",
    "plt.plot(range(len(valid_acc)), valid_acc, label=\"valid accuracy\")\n",
    "plt.legend()\n",
    "plt.title(\"Accuracy\")\n",
    "plt.show()\n",
    "\n",
    "plt.plot(range(len(valid_tp)), valid_tp, label=\"valid tp\", color=\"navy\")\n",
    "plt.plot(range(len(valid_tn)), valid_tn, label=\"valid tn\", color=\"red\")\n",
    "plt.legend()\n",
    "plt.title(\"True positives and True Negatives\")\n",
    "plt.show()\n"
   ]
  },
  {
   "cell_type": "code",
   "execution_count": null,
   "metadata": {},
   "outputs": [],
   "source": []
  }
 ],
 "metadata": {
  "kernelspec": {
   "display_name": "Python 3",
   "language": "python",
   "name": "python3"
  },
  "language_info": {
   "codemirror_mode": {
    "name": "ipython",
    "version": 3
   },
   "file_extension": ".py",
   "mimetype": "text/x-python",
   "name": "python",
   "nbconvert_exporter": "python",
   "pygments_lexer": "ipython3",
   "version": "3.7.3"
  }
 },
 "nbformat": 4,
 "nbformat_minor": 2
}
