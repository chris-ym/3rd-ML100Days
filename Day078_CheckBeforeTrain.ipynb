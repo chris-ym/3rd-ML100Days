{
 "cells": [
  {
   "cell_type": "markdown",
   "metadata": {},
   "source": [
    "## 範例重點\n",
    "### 學習在模型開始前檢查各個環節\n",
    "1. 是否有 GPU 資源\n",
    "2. 將前處理轉為函式，統一處理訓練、驗證與測試集\n",
    "3. 將超參數變數化，易於重複使用函式、模型等"
   ]
  },
  {
   "cell_type": "code",
   "execution_count": null,
   "metadata": {},
   "outputs": [],
   "source": [
    "## 確認硬體資源 (如果你是在 Linux, 若是在 Windows, 請參考 https://blog.csdn.net/idwtwt/article/details/78017565)\n",
    "!nvidia-smi"
   ]
  },
  {
   "cell_type": "code",
   "execution_count": 1,
   "metadata": {},
   "outputs": [
    {
     "name": "stderr",
     "output_type": "stream",
     "text": [
      "Using TensorFlow backend.\n"
     ]
    }
   ],
   "source": [
    "import os\n",
    "import keras\n",
    "\n",
    "# 本範例不需使用 GPU, 將 GPU 設定為 \"無\"\n",
    "os.environ[\"CUDA_VISIBLE_DEVICES\"] = \"\""
   ]
  },
  {
   "cell_type": "code",
   "execution_count": 2,
   "metadata": {},
   "outputs": [],
   "source": [
    "# 從 Keras 的內建功能中，取得 train 與 test 資料集\n",
    "train, test = keras.datasets.cifar10.load_data()"
   ]
  },
  {
   "cell_type": "code",
   "execution_count": 4,
   "metadata": {},
   "outputs": [],
   "source": [
    "## 資料前處理\n",
    "def preproc_x(x, flatten=True):\n",
    "    x = x / 255.\n",
    "    if flatten:\n",
    "        x = x.reshape((len(x), -1))\n",
    "    return x\n",
    "\n",
    "def preproc_y(y, num_classes=10):\n",
    "    if y.shape[-1] == 1:\n",
    "        y = keras.utils.to_categorical(y, num_classes)\n",
    "    return y    "
   ]
  },
  {
   "cell_type": "code",
   "execution_count": 5,
   "metadata": {},
   "outputs": [],
   "source": [
    "x_train, y_train = train\n",
    "x_test, y_test = test\n",
    "\n",
    "# 資料前處理 - X 標準化\n",
    "x_train = preproc_x(x_train)\n",
    "x_test = preproc_x(x_test)\n",
    "\n",
    "# 資料前處理 -Y 轉成 onehot\n",
    "y_train = preproc_y(y_train)\n",
    "y_test = preproc_y(y_test)"
   ]
  },
  {
   "cell_type": "code",
   "execution_count": 6,
   "metadata": {},
   "outputs": [],
   "source": [
    "def build_mlp(input_shape, output_units=10, num_neurons=[512, 256, 128]):\n",
    "    input_layer = keras.layers.Input(input_shape)\n",
    "    \n",
    "    for i, n_units in enumerate(num_neurons):\n",
    "        if i == 0:\n",
    "            x = keras.layers.Dense(units=n_units, activation=\"relu\", name=\"hidden_layer\"+str(i+1))(input_layer)\n",
    "        else:\n",
    "            x = keras.layers.Dense(units=n_units, activation=\"relu\", name=\"hidden_layer\"+str(i+1))(x)\n",
    "    \n",
    "    out = keras.layers.Dense(units=output_units, activation=\"softmax\", name=\"output\")(x)\n",
    "    \n",
    "    model = keras.models.Model(inputs=[input_layer], outputs=[out])\n",
    "    return model"
   ]
  },
  {
   "cell_type": "code",
   "execution_count": 9,
   "metadata": {},
   "outputs": [
    {
     "name": "stdout",
     "output_type": "stream",
     "text": [
      "Model: \"model_1\"\n",
      "_________________________________________________________________\n",
      "Layer (type)                 Output Shape              Param #   \n",
      "=================================================================\n",
      "input_1 (InputLayer)         (None, 3072)              0         \n",
      "_________________________________________________________________\n",
      "hidden_layer1 (Dense)        (None, 512)               1573376   \n",
      "_________________________________________________________________\n",
      "hidden_layer2 (Dense)        (None, 256)               131328    \n",
      "_________________________________________________________________\n",
      "hidden_layer3 (Dense)        (None, 128)               32896     \n",
      "_________________________________________________________________\n",
      "output (Dense)               (None, 10)                1290      \n",
      "=================================================================\n",
      "Total params: 1,738,890\n",
      "Trainable params: 1,738,890\n",
      "Non-trainable params: 0\n",
      "_________________________________________________________________\n"
     ]
    }
   ],
   "source": [
    "model = build_mlp(input_shape=x_train.shape[1:])\n",
    "model.summary()"
   ]
  },
  {
   "cell_type": "code",
   "execution_count": 7,
   "metadata": {},
   "outputs": [],
   "source": [
    "## 超參數設定\n",
    "LEARNING_RATE = 0.001\n",
    "EPOCHS = 100\n",
    "BATCH_SIZE = 256"
   ]
  },
  {
   "cell_type": "code",
   "execution_count": 10,
   "metadata": {},
   "outputs": [],
   "source": [
    "optimizer = keras.optimizers.Adam(lr=LEARNING_RATE)\n",
    "model.compile(loss=\"categorical_crossentropy\", metrics=[\"accuracy\"], optimizer=optimizer)"
   ]
  },
  {
   "cell_type": "code",
   "execution_count": 11,
   "metadata": {},
   "outputs": [
    {
     "name": "stdout",
     "output_type": "stream",
     "text": [
      "Train on 50000 samples, validate on 10000 samples\n",
      "Epoch 1/100\n",
      "28416/50000 [================>.............] - ETA: 7s - loss: 2.0077 - accuracy: 0.2719"
     ]
    },
    {
     "ename": "KeyboardInterrupt",
     "evalue": "",
     "output_type": "error",
     "traceback": [
      "\u001b[1;31m---------------------------------------------------------------------------\u001b[0m",
      "\u001b[1;31mKeyboardInterrupt\u001b[0m                         Traceback (most recent call last)",
      "\u001b[1;32m<ipython-input-11-2b6128154f9a>\u001b[0m in \u001b[0;36m<module>\u001b[1;34m\u001b[0m\n\u001b[0;32m      3\u001b[0m           \u001b[0mbatch_size\u001b[0m\u001b[1;33m=\u001b[0m\u001b[0mBATCH_SIZE\u001b[0m\u001b[1;33m,\u001b[0m\u001b[1;33m\u001b[0m\u001b[1;33m\u001b[0m\u001b[0m\n\u001b[0;32m      4\u001b[0m           \u001b[0mvalidation_data\u001b[0m\u001b[1;33m=\u001b[0m\u001b[1;33m(\u001b[0m\u001b[0mx_test\u001b[0m\u001b[1;33m,\u001b[0m \u001b[0my_test\u001b[0m\u001b[1;33m)\u001b[0m\u001b[1;33m,\u001b[0m\u001b[1;33m\u001b[0m\u001b[1;33m\u001b[0m\u001b[0m\n\u001b[1;32m----> 5\u001b[1;33m           shuffle=True)\n\u001b[0m",
      "\u001b[1;32m~\\Anaconda3\\lib\\site-packages\\keras\\engine\\training.py\u001b[0m in \u001b[0;36mfit\u001b[1;34m(self, x, y, batch_size, epochs, verbose, callbacks, validation_split, validation_data, shuffle, class_weight, sample_weight, initial_epoch, steps_per_epoch, validation_steps, validation_freq, max_queue_size, workers, use_multiprocessing, **kwargs)\u001b[0m\n\u001b[0;32m   1237\u001b[0m                                         \u001b[0msteps_per_epoch\u001b[0m\u001b[1;33m=\u001b[0m\u001b[0msteps_per_epoch\u001b[0m\u001b[1;33m,\u001b[0m\u001b[1;33m\u001b[0m\u001b[1;33m\u001b[0m\u001b[0m\n\u001b[0;32m   1238\u001b[0m                                         \u001b[0mvalidation_steps\u001b[0m\u001b[1;33m=\u001b[0m\u001b[0mvalidation_steps\u001b[0m\u001b[1;33m,\u001b[0m\u001b[1;33m\u001b[0m\u001b[1;33m\u001b[0m\u001b[0m\n\u001b[1;32m-> 1239\u001b[1;33m                                         validation_freq=validation_freq)\n\u001b[0m\u001b[0;32m   1240\u001b[0m \u001b[1;33m\u001b[0m\u001b[0m\n\u001b[0;32m   1241\u001b[0m     def evaluate(self,\n",
      "\u001b[1;32m~\\Anaconda3\\lib\\site-packages\\keras\\engine\\training_arrays.py\u001b[0m in \u001b[0;36mfit_loop\u001b[1;34m(model, fit_function, fit_inputs, out_labels, batch_size, epochs, verbose, callbacks, val_function, val_inputs, shuffle, initial_epoch, steps_per_epoch, validation_steps, validation_freq)\u001b[0m\n\u001b[0;32m    194\u001b[0m                     \u001b[0mins_batch\u001b[0m\u001b[1;33m[\u001b[0m\u001b[0mi\u001b[0m\u001b[1;33m]\u001b[0m \u001b[1;33m=\u001b[0m \u001b[0mins_batch\u001b[0m\u001b[1;33m[\u001b[0m\u001b[0mi\u001b[0m\u001b[1;33m]\u001b[0m\u001b[1;33m.\u001b[0m\u001b[0mtoarray\u001b[0m\u001b[1;33m(\u001b[0m\u001b[1;33m)\u001b[0m\u001b[1;33m\u001b[0m\u001b[1;33m\u001b[0m\u001b[0m\n\u001b[0;32m    195\u001b[0m \u001b[1;33m\u001b[0m\u001b[0m\n\u001b[1;32m--> 196\u001b[1;33m                 \u001b[0mouts\u001b[0m \u001b[1;33m=\u001b[0m \u001b[0mfit_function\u001b[0m\u001b[1;33m(\u001b[0m\u001b[0mins_batch\u001b[0m\u001b[1;33m)\u001b[0m\u001b[1;33m\u001b[0m\u001b[1;33m\u001b[0m\u001b[0m\n\u001b[0m\u001b[0;32m    197\u001b[0m                 \u001b[0mouts\u001b[0m \u001b[1;33m=\u001b[0m \u001b[0mto_list\u001b[0m\u001b[1;33m(\u001b[0m\u001b[0mouts\u001b[0m\u001b[1;33m)\u001b[0m\u001b[1;33m\u001b[0m\u001b[1;33m\u001b[0m\u001b[0m\n\u001b[0;32m    198\u001b[0m                 \u001b[1;32mfor\u001b[0m \u001b[0ml\u001b[0m\u001b[1;33m,\u001b[0m \u001b[0mo\u001b[0m \u001b[1;32min\u001b[0m \u001b[0mzip\u001b[0m\u001b[1;33m(\u001b[0m\u001b[0mout_labels\u001b[0m\u001b[1;33m,\u001b[0m \u001b[0mouts\u001b[0m\u001b[1;33m)\u001b[0m\u001b[1;33m:\u001b[0m\u001b[1;33m\u001b[0m\u001b[1;33m\u001b[0m\u001b[0m\n",
      "\u001b[1;32m~\\Anaconda3\\lib\\site-packages\\tensorflow_core\\python\\keras\\backend.py\u001b[0m in \u001b[0;36m__call__\u001b[1;34m(self, inputs)\u001b[0m\n\u001b[0;32m   3738\u001b[0m         \u001b[0mvalue\u001b[0m \u001b[1;33m=\u001b[0m \u001b[0mmath_ops\u001b[0m\u001b[1;33m.\u001b[0m\u001b[0mcast\u001b[0m\u001b[1;33m(\u001b[0m\u001b[0mvalue\u001b[0m\u001b[1;33m,\u001b[0m \u001b[0mtensor\u001b[0m\u001b[1;33m.\u001b[0m\u001b[0mdtype\u001b[0m\u001b[1;33m)\u001b[0m\u001b[1;33m\u001b[0m\u001b[1;33m\u001b[0m\u001b[0m\n\u001b[0;32m   3739\u001b[0m       \u001b[0mconverted_inputs\u001b[0m\u001b[1;33m.\u001b[0m\u001b[0mappend\u001b[0m\u001b[1;33m(\u001b[0m\u001b[0mvalue\u001b[0m\u001b[1;33m)\u001b[0m\u001b[1;33m\u001b[0m\u001b[1;33m\u001b[0m\u001b[0m\n\u001b[1;32m-> 3740\u001b[1;33m     \u001b[0moutputs\u001b[0m \u001b[1;33m=\u001b[0m \u001b[0mself\u001b[0m\u001b[1;33m.\u001b[0m\u001b[0m_graph_fn\u001b[0m\u001b[1;33m(\u001b[0m\u001b[1;33m*\u001b[0m\u001b[0mconverted_inputs\u001b[0m\u001b[1;33m)\u001b[0m\u001b[1;33m\u001b[0m\u001b[1;33m\u001b[0m\u001b[0m\n\u001b[0m\u001b[0;32m   3741\u001b[0m \u001b[1;33m\u001b[0m\u001b[0m\n\u001b[0;32m   3742\u001b[0m     \u001b[1;31m# EagerTensor.numpy() will often make a copy to ensure memory safety.\u001b[0m\u001b[1;33m\u001b[0m\u001b[1;33m\u001b[0m\u001b[1;33m\u001b[0m\u001b[0m\n",
      "\u001b[1;32m~\\Anaconda3\\lib\\site-packages\\tensorflow_core\\python\\eager\\function.py\u001b[0m in \u001b[0;36m__call__\u001b[1;34m(self, *args, **kwargs)\u001b[0m\n\u001b[0;32m   1079\u001b[0m       \u001b[0mTypeError\u001b[0m\u001b[1;33m:\u001b[0m \u001b[0mFor\u001b[0m \u001b[0minvalid\u001b[0m \u001b[0mpositional\u001b[0m\u001b[1;33m/\u001b[0m\u001b[0mkeyword\u001b[0m \u001b[0margument\u001b[0m \u001b[0mcombinations\u001b[0m\u001b[1;33m.\u001b[0m\u001b[1;33m\u001b[0m\u001b[1;33m\u001b[0m\u001b[0m\n\u001b[0;32m   1080\u001b[0m     \"\"\"\n\u001b[1;32m-> 1081\u001b[1;33m     \u001b[1;32mreturn\u001b[0m \u001b[0mself\u001b[0m\u001b[1;33m.\u001b[0m\u001b[0m_call_impl\u001b[0m\u001b[1;33m(\u001b[0m\u001b[0margs\u001b[0m\u001b[1;33m,\u001b[0m \u001b[0mkwargs\u001b[0m\u001b[1;33m)\u001b[0m\u001b[1;33m\u001b[0m\u001b[1;33m\u001b[0m\u001b[0m\n\u001b[0m\u001b[0;32m   1082\u001b[0m \u001b[1;33m\u001b[0m\u001b[0m\n\u001b[0;32m   1083\u001b[0m   \u001b[1;32mdef\u001b[0m \u001b[0m_call_impl\u001b[0m\u001b[1;33m(\u001b[0m\u001b[0mself\u001b[0m\u001b[1;33m,\u001b[0m \u001b[0margs\u001b[0m\u001b[1;33m,\u001b[0m \u001b[0mkwargs\u001b[0m\u001b[1;33m,\u001b[0m \u001b[0mcancellation_manager\u001b[0m\u001b[1;33m=\u001b[0m\u001b[1;32mNone\u001b[0m\u001b[1;33m)\u001b[0m\u001b[1;33m:\u001b[0m\u001b[1;33m\u001b[0m\u001b[1;33m\u001b[0m\u001b[0m\n",
      "\u001b[1;32m~\\Anaconda3\\lib\\site-packages\\tensorflow_core\\python\\eager\\function.py\u001b[0m in \u001b[0;36m_call_impl\u001b[1;34m(self, args, kwargs, cancellation_manager)\u001b[0m\n\u001b[0;32m   1119\u001b[0m       raise TypeError(\"Keyword arguments {} unknown. Expected {}.\".format(\n\u001b[0;32m   1120\u001b[0m           list(kwargs.keys()), list(self._arg_keywords)))\n\u001b[1;32m-> 1121\u001b[1;33m     \u001b[1;32mreturn\u001b[0m \u001b[0mself\u001b[0m\u001b[1;33m.\u001b[0m\u001b[0m_call_flat\u001b[0m\u001b[1;33m(\u001b[0m\u001b[0margs\u001b[0m\u001b[1;33m,\u001b[0m \u001b[0mself\u001b[0m\u001b[1;33m.\u001b[0m\u001b[0mcaptured_inputs\u001b[0m\u001b[1;33m,\u001b[0m \u001b[0mcancellation_manager\u001b[0m\u001b[1;33m)\u001b[0m\u001b[1;33m\u001b[0m\u001b[1;33m\u001b[0m\u001b[0m\n\u001b[0m\u001b[0;32m   1122\u001b[0m \u001b[1;33m\u001b[0m\u001b[0m\n\u001b[0;32m   1123\u001b[0m   \u001b[1;32mdef\u001b[0m \u001b[0m_filtered_call\u001b[0m\u001b[1;33m(\u001b[0m\u001b[0mself\u001b[0m\u001b[1;33m,\u001b[0m \u001b[0margs\u001b[0m\u001b[1;33m,\u001b[0m \u001b[0mkwargs\u001b[0m\u001b[1;33m)\u001b[0m\u001b[1;33m:\u001b[0m\u001b[1;33m\u001b[0m\u001b[1;33m\u001b[0m\u001b[0m\n",
      "\u001b[1;32m~\\Anaconda3\\lib\\site-packages\\tensorflow_core\\python\\eager\\function.py\u001b[0m in \u001b[0;36m_call_flat\u001b[1;34m(self, args, captured_inputs, cancellation_manager)\u001b[0m\n\u001b[0;32m   1222\u001b[0m     \u001b[1;32mif\u001b[0m \u001b[0mexecuting_eagerly\u001b[0m\u001b[1;33m:\u001b[0m\u001b[1;33m\u001b[0m\u001b[1;33m\u001b[0m\u001b[0m\n\u001b[0;32m   1223\u001b[0m       flat_outputs = forward_function.call(\n\u001b[1;32m-> 1224\u001b[1;33m           ctx, args, cancellation_manager=cancellation_manager)\n\u001b[0m\u001b[0;32m   1225\u001b[0m     \u001b[1;32melse\u001b[0m\u001b[1;33m:\u001b[0m\u001b[1;33m\u001b[0m\u001b[1;33m\u001b[0m\u001b[0m\n\u001b[0;32m   1226\u001b[0m       \u001b[0mgradient_name\u001b[0m \u001b[1;33m=\u001b[0m \u001b[0mself\u001b[0m\u001b[1;33m.\u001b[0m\u001b[0m_delayed_rewrite_functions\u001b[0m\u001b[1;33m.\u001b[0m\u001b[0mregister\u001b[0m\u001b[1;33m(\u001b[0m\u001b[1;33m)\u001b[0m\u001b[1;33m\u001b[0m\u001b[1;33m\u001b[0m\u001b[0m\n",
      "\u001b[1;32m~\\Anaconda3\\lib\\site-packages\\tensorflow_core\\python\\eager\\function.py\u001b[0m in \u001b[0;36mcall\u001b[1;34m(self, ctx, args, cancellation_manager)\u001b[0m\n\u001b[0;32m    509\u001b[0m               \u001b[0minputs\u001b[0m\u001b[1;33m=\u001b[0m\u001b[0margs\u001b[0m\u001b[1;33m,\u001b[0m\u001b[1;33m\u001b[0m\u001b[1;33m\u001b[0m\u001b[0m\n\u001b[0;32m    510\u001b[0m               \u001b[0mattrs\u001b[0m\u001b[1;33m=\u001b[0m\u001b[1;33m(\u001b[0m\u001b[1;34m\"executor_type\"\u001b[0m\u001b[1;33m,\u001b[0m \u001b[0mexecutor_type\u001b[0m\u001b[1;33m,\u001b[0m \u001b[1;34m\"config_proto\"\u001b[0m\u001b[1;33m,\u001b[0m \u001b[0mconfig\u001b[0m\u001b[1;33m)\u001b[0m\u001b[1;33m,\u001b[0m\u001b[1;33m\u001b[0m\u001b[1;33m\u001b[0m\u001b[0m\n\u001b[1;32m--> 511\u001b[1;33m               ctx=ctx)\n\u001b[0m\u001b[0;32m    512\u001b[0m         \u001b[1;32melse\u001b[0m\u001b[1;33m:\u001b[0m\u001b[1;33m\u001b[0m\u001b[1;33m\u001b[0m\u001b[0m\n\u001b[0;32m    513\u001b[0m           outputs = execute.execute_with_cancellation(\n",
      "\u001b[1;32m~\\Anaconda3\\lib\\site-packages\\tensorflow_core\\python\\eager\\execute.py\u001b[0m in \u001b[0;36mquick_execute\u001b[1;34m(op_name, num_outputs, inputs, attrs, ctx, name)\u001b[0m\n\u001b[0;32m     59\u001b[0m     tensors = pywrap_tensorflow.TFE_Py_Execute(ctx._handle, device_name,\n\u001b[0;32m     60\u001b[0m                                                \u001b[0mop_name\u001b[0m\u001b[1;33m,\u001b[0m \u001b[0minputs\u001b[0m\u001b[1;33m,\u001b[0m \u001b[0mattrs\u001b[0m\u001b[1;33m,\u001b[0m\u001b[1;33m\u001b[0m\u001b[1;33m\u001b[0m\u001b[0m\n\u001b[1;32m---> 61\u001b[1;33m                                                num_outputs)\n\u001b[0m\u001b[0;32m     62\u001b[0m   \u001b[1;32mexcept\u001b[0m \u001b[0mcore\u001b[0m\u001b[1;33m.\u001b[0m\u001b[0m_NotOkStatusException\u001b[0m \u001b[1;32mas\u001b[0m \u001b[0me\u001b[0m\u001b[1;33m:\u001b[0m\u001b[1;33m\u001b[0m\u001b[1;33m\u001b[0m\u001b[0m\n\u001b[0;32m     63\u001b[0m     \u001b[1;32mif\u001b[0m \u001b[0mname\u001b[0m \u001b[1;32mis\u001b[0m \u001b[1;32mnot\u001b[0m \u001b[1;32mNone\u001b[0m\u001b[1;33m:\u001b[0m\u001b[1;33m\u001b[0m\u001b[1;33m\u001b[0m\u001b[0m\n",
      "\u001b[1;31mKeyboardInterrupt\u001b[0m: "
     ]
    }
   ],
   "source": [
    "model.fit(x_train, y_train, \n",
    "          epochs=EPOCHS, \n",
    "          batch_size=BATCH_SIZE, \n",
    "          validation_data=(x_test, y_test), \n",
    "          shuffle=True)"
   ]
  },
  {
   "cell_type": "code",
   "execution_count": 6,
   "metadata": {},
   "outputs": [
    {
     "ename": "NameError",
     "evalue": "name 'model' is not defined",
     "output_type": "error",
     "traceback": [
      "\u001b[1;31m---------------------------------------------------------------------------\u001b[0m",
      "\u001b[1;31mNameError\u001b[0m                                 Traceback (most recent call last)",
      "\u001b[1;32m<ipython-input-6-923aa18fddb5>\u001b[0m in \u001b[0;36m<module>\u001b[1;34m\u001b[0m\n\u001b[0;32m      2\u001b[0m \u001b[1;32mimport\u001b[0m \u001b[0mmatplotlib\u001b[0m\u001b[1;33m.\u001b[0m\u001b[0mpyplot\u001b[0m \u001b[1;32mas\u001b[0m \u001b[0mplt\u001b[0m\u001b[1;33m\u001b[0m\u001b[1;33m\u001b[0m\u001b[0m\n\u001b[0;32m      3\u001b[0m \u001b[1;33m\u001b[0m\u001b[0m\n\u001b[1;32m----> 4\u001b[1;33m \u001b[0mtrain_loss\u001b[0m \u001b[1;33m=\u001b[0m \u001b[0mmodel\u001b[0m\u001b[1;33m.\u001b[0m\u001b[0mhistory\u001b[0m\u001b[1;33m.\u001b[0m\u001b[0mhistory\u001b[0m\u001b[1;33m[\u001b[0m\u001b[1;34m\"loss\"\u001b[0m\u001b[1;33m]\u001b[0m\u001b[1;33m\u001b[0m\u001b[1;33m\u001b[0m\u001b[0m\n\u001b[0m\u001b[0;32m      5\u001b[0m \u001b[0mvalid_loss\u001b[0m \u001b[1;33m=\u001b[0m \u001b[0mmodel\u001b[0m\u001b[1;33m.\u001b[0m\u001b[0mhistory\u001b[0m\u001b[1;33m.\u001b[0m\u001b[0mhistory\u001b[0m\u001b[1;33m[\u001b[0m\u001b[1;34m\"val_loss\"\u001b[0m\u001b[1;33m]\u001b[0m\u001b[1;33m\u001b[0m\u001b[1;33m\u001b[0m\u001b[0m\n\u001b[0;32m      6\u001b[0m \u001b[1;33m\u001b[0m\u001b[0m\n",
      "\u001b[1;31mNameError\u001b[0m: name 'model' is not defined"
     ]
    }
   ],
   "source": [
    "# 訓練模型並檢視驗證集的結果\n",
    "import matplotlib.pyplot as plt\n",
    "\n",
    "train_loss = model.history.history[\"loss\"]\n",
    "valid_loss = model.history.history[\"val_loss\"]\n",
    "\n",
    "train_acc = model.history.history[\"acc\"]\n",
    "valid_acc = model.history.history[\"val_acc\"]\n",
    "\n",
    "plt.plot(range(len(train_loss)), train_loss, label=\"train loss\")\n",
    "plt.plot(range(len(valid_loss)), valid_loss, label=\"valid loss\")\n",
    "plt.legend()\n",
    "plt.title(\"Loss\")\n",
    "plt.show()\n",
    "\n",
    "plt.plot(range(len(train_acc)), train_acc, label=\"train accuracy\")\n",
    "plt.plot(range(len(valid_acc)), valid_acc, label=\"valid accuracy\")\n",
    "plt.legend()\n",
    "plt.title(\"Accuracy\")\n",
    "plt.show()"
   ]
  },
  {
   "cell_type": "markdown",
   "metadata": {},
   "source": [
    "## Work\n",
    "1. 請嘗試將 preproc_x 替換成以每筆資料的 min/max 進行標準化至 -1 ~ 1 間，再進行訓練\n",
    "2. 請嘗試將 mlp 疊更深 (e.g 5~10 層)，進行訓練後觀察 learning curve 的走勢\n",
    "3. (optional) 請改用 GPU 進行訓練 (如果你有 GPU 的話)，比較使用 CPU 與 GPU 的訓練速度"
   ]
  },
  {
   "cell_type": "code",
   "execution_count": 12,
   "metadata": {},
   "outputs": [],
   "source": [
    "## 資料前處理\n",
    "def preproc_x2(x, flatten=True):\n",
    "    x = 2*((x-x.min()) / (x.max()-x.min()))-1.\n",
    "    if flatten:\n",
    "        x = x.reshape((len(x), -1))\n",
    "    return x\n",
    "\n",
    "def preproc_y(y, num_classes=10):\n",
    "    if y.shape[-1] == 1:\n",
    "        y = keras.utils.to_categorical(y, num_classes)\n",
    "    return y"
   ]
  },
  {
   "cell_type": "code",
   "execution_count": 13,
   "metadata": {},
   "outputs": [],
   "source": [
    "(x_train,y_train), (x_test,y_test) = keras.datasets.cifar10.load_data()\n",
    "\n",
    "# 資料前處理 - X 標準化\n",
    "x_train = preproc_x2(x_train)\n",
    "x_test = preproc_x2(x_test)\n",
    "\n",
    "# 資料前處理 -Y 轉成 onehot\n",
    "y_train = preproc_y(y_train)\n",
    "y_test = preproc_y(y_test)"
   ]
  },
  {
   "cell_type": "code",
   "execution_count": 14,
   "metadata": {},
   "outputs": [
    {
     "name": "stdout",
     "output_type": "stream",
     "text": [
      "Model: \"model_2\"\n",
      "_________________________________________________________________\n",
      "Layer (type)                 Output Shape              Param #   \n",
      "=================================================================\n",
      "input_2 (InputLayer)         (None, 3072)              0         \n",
      "_________________________________________________________________\n",
      "hidden_layer1 (Dense)        (None, 512)               1573376   \n",
      "_________________________________________________________________\n",
      "hidden_layer2 (Dense)        (None, 512)               262656    \n",
      "_________________________________________________________________\n",
      "hidden_layer3 (Dense)        (None, 256)               131328    \n",
      "_________________________________________________________________\n",
      "hidden_layer4 (Dense)        (None, 256)               65792     \n",
      "_________________________________________________________________\n",
      "hidden_layer5 (Dense)        (None, 128)               32896     \n",
      "_________________________________________________________________\n",
      "hidden_layer6 (Dense)        (None, 128)               16512     \n",
      "_________________________________________________________________\n",
      "hidden_layer7 (Dense)        (None, 64)                8256      \n",
      "_________________________________________________________________\n",
      "hidden_layer8 (Dense)        (None, 64)                4160      \n",
      "_________________________________________________________________\n",
      "output (Dense)               (None, 10)                650       \n",
      "=================================================================\n",
      "Total params: 2,095,626\n",
      "Trainable params: 2,095,626\n",
      "Non-trainable params: 0\n",
      "_________________________________________________________________\n"
     ]
    }
   ],
   "source": [
    "model = build_mlp(input_shape=x_train.shape[1:],num_neurons=[512,512,256,256,128,128,64,64])\n",
    "model.summary()"
   ]
  },
  {
   "cell_type": "code",
   "execution_count": 15,
   "metadata": {},
   "outputs": [],
   "source": [
    "## 超參數設定\n",
    "LEARNING_RATE = 0.001\n",
    "EPOCHS = 100\n",
    "BATCH_SIZE = 256"
   ]
  },
  {
   "cell_type": "code",
   "execution_count": 16,
   "metadata": {},
   "outputs": [],
   "source": [
    "optimizer = keras.optimizers.Adam(lr=LEARNING_RATE)\n",
    "model.compile(loss=\"categorical_crossentropy\", metrics=[\"accuracy\"], optimizer=optimizer)"
   ]
  },
  {
   "cell_type": "code",
   "execution_count": 17,
   "metadata": {},
   "outputs": [
    {
     "name": "stdout",
     "output_type": "stream",
     "text": [
      "Train on 50000 samples, validate on 10000 samples\n",
      "Epoch 1/100\n",
      "50000/50000 [==============================] - 18s 362us/step - loss: 1.7392 - accuracy: 0.3774 - val_loss: 1.5378 - val_accuracy: 0.4601\n",
      "Epoch 2/100\n",
      "50000/50000 [==============================] - 19s 371us/step - loss: 1.4894 - accuracy: 0.4725 - val_loss: 1.4705 - val_accuracy: 0.4824\n",
      "Epoch 3/100\n",
      "50000/50000 [==============================] - 16s 328us/step - loss: 1.3710 - accuracy: 0.5186 - val_loss: 1.4289 - val_accuracy: 0.4948\n",
      "Epoch 4/100\n",
      "50000/50000 [==============================] - 16s 328us/step - loss: 1.2687 - accuracy: 0.5526 - val_loss: 1.3645 - val_accuracy: 0.5175\n",
      "Epoch 5/100\n",
      "50000/50000 [==============================] - 17s 335us/step - loss: 1.1884 - accuracy: 0.5799 - val_loss: 1.3467 - val_accuracy: 0.5257\n",
      "Epoch 6/100\n",
      "50000/50000 [==============================] - 18s 366us/step - loss: 1.0958 - accuracy: 0.6116 - val_loss: 1.3848 - val_accuracy: 0.5250\n",
      "Epoch 7/100\n",
      "50000/50000 [==============================] - 17s 341us/step - loss: 1.0190 - accuracy: 0.6366 - val_loss: 1.3590 - val_accuracy: 0.5371\n",
      "Epoch 8/100\n",
      "50000/50000 [==============================] - 17s 333us/step - loss: 0.9318 - accuracy: 0.6684 - val_loss: 1.4156 - val_accuracy: 0.5338\n",
      "Epoch 9/100\n",
      "50000/50000 [==============================] - 16s 327us/step - loss: 0.8632 - accuracy: 0.6945 - val_loss: 1.4117 - val_accuracy: 0.5427\n",
      "Epoch 10/100\n",
      "50000/50000 [==============================] - 16s 324us/step - loss: 0.7859 - accuracy: 0.7200 - val_loss: 1.4739 - val_accuracy: 0.5391\n",
      "Epoch 11/100\n",
      "50000/50000 [==============================] - 16s 327us/step - loss: 0.7067 - accuracy: 0.7489 - val_loss: 1.5461 - val_accuracy: 0.5400\n",
      "Epoch 12/100\n",
      "50000/50000 [==============================] - 18s 357us/step - loss: 0.6488 - accuracy: 0.7704 - val_loss: 1.6030 - val_accuracy: 0.5432\n",
      "Epoch 13/100\n",
      "50000/50000 [==============================] - 17s 341us/step - loss: 0.5790 - accuracy: 0.7965 - val_loss: 1.6854 - val_accuracy: 0.5419\n",
      "Epoch 14/100\n",
      "50000/50000 [==============================] - 17s 338us/step - loss: 0.5274 - accuracy: 0.8146 - val_loss: 1.7648 - val_accuracy: 0.5414\n",
      "Epoch 15/100\n",
      "50000/50000 [==============================] - 16s 322us/step - loss: 0.4814 - accuracy: 0.8312 - val_loss: 1.9071 - val_accuracy: 0.5353\n",
      "Epoch 16/100\n",
      "50000/50000 [==============================] - 18s 355us/step - loss: 0.4338 - accuracy: 0.8468 - val_loss: 1.9078 - val_accuracy: 0.5415\n",
      "Epoch 17/100\n",
      "50000/50000 [==============================] - 17s 331us/step - loss: 0.3968 - accuracy: 0.8595 - val_loss: 2.0004 - val_accuracy: 0.5358\n",
      "Epoch 18/100\n",
      "50000/50000 [==============================] - 16s 323us/step - loss: 0.3593 - accuracy: 0.8758 - val_loss: 2.0879 - val_accuracy: 0.5414\n",
      "Epoch 19/100\n",
      "50000/50000 [==============================] - 16s 325us/step - loss: 0.3210 - accuracy: 0.8885 - val_loss: 2.2879 - val_accuracy: 0.5280\n",
      "Epoch 20/100\n",
      "50000/50000 [==============================] - 16s 330us/step - loss: 0.3061 - accuracy: 0.8940 - val_loss: 2.2484 - val_accuracy: 0.5388\n",
      "Epoch 21/100\n",
      "50000/50000 [==============================] - 16s 329us/step - loss: 0.2757 - accuracy: 0.9037 - val_loss: 2.2988 - val_accuracy: 0.5304\n",
      "Epoch 22/100\n",
      "50000/50000 [==============================] - 17s 333us/step - loss: 0.2656 - accuracy: 0.9086 - val_loss: 2.3811 - val_accuracy: 0.5366\n",
      "Epoch 23/100\n",
      "50000/50000 [==============================] - 16s 325us/step - loss: 0.2357 - accuracy: 0.9180 - val_loss: 2.4345 - val_accuracy: 0.5355\n",
      "Epoch 24/100\n",
      "50000/50000 [==============================] - 16s 324us/step - loss: 0.2180 - accuracy: 0.9253 - val_loss: 2.6615 - val_accuracy: 0.5313\n",
      "Epoch 25/100\n",
      "50000/50000 [==============================] - 16s 329us/step - loss: 0.2051 - accuracy: 0.9309 - val_loss: 2.6978 - val_accuracy: 0.5457\n",
      "Epoch 26/100\n",
      "50000/50000 [==============================] - 16s 328us/step - loss: 0.1885 - accuracy: 0.9353 - val_loss: 2.5820 - val_accuracy: 0.5367\n",
      "Epoch 27/100\n",
      "50000/50000 [==============================] - 16s 323us/step - loss: 0.1856 - accuracy: 0.9363 - val_loss: 2.7505 - val_accuracy: 0.5372\n",
      "Epoch 28/100\n",
      "50000/50000 [==============================] - 16s 324us/step - loss: 0.1724 - accuracy: 0.9412 - val_loss: 2.7631 - val_accuracy: 0.5339\n",
      "Epoch 29/100\n",
      "50000/50000 [==============================] - 16s 324us/step - loss: 0.1630 - accuracy: 0.9448 - val_loss: 2.8428 - val_accuracy: 0.5377\n",
      "Epoch 30/100\n",
      "50000/50000 [==============================] - 16s 323us/step - loss: 0.1647 - accuracy: 0.9444 - val_loss: 2.7265 - val_accuracy: 0.5367\n",
      "Epoch 31/100\n",
      "50000/50000 [==============================] - 16s 324us/step - loss: 0.1596 - accuracy: 0.9457 - val_loss: 2.8235 - val_accuracy: 0.5400\n",
      "Epoch 32/100\n",
      "50000/50000 [==============================] - 17s 333us/step - loss: 0.1442 - accuracy: 0.9509 - val_loss: 2.9726 - val_accuracy: 0.5378\n",
      "Epoch 33/100\n",
      "50000/50000 [==============================] - 17s 334us/step - loss: 0.1441 - accuracy: 0.9521 - val_loss: 2.7876 - val_accuracy: 0.5322\n",
      "Epoch 34/100\n",
      "50000/50000 [==============================] - 16s 326us/step - loss: 0.1329 - accuracy: 0.9554 - val_loss: 2.8077 - val_accuracy: 0.5357\n",
      "Epoch 35/100\n",
      "50000/50000 [==============================] - 16s 329us/step - loss: 0.1353 - accuracy: 0.9550 - val_loss: 3.0407 - val_accuracy: 0.5354\n",
      "Epoch 36/100\n",
      "50000/50000 [==============================] - 16s 314us/step - loss: 0.1286 - accuracy: 0.9580 - val_loss: 2.9789 - val_accuracy: 0.5261\n",
      "Epoch 37/100\n",
      "50000/50000 [==============================] - 16s 312us/step - loss: 0.1219 - accuracy: 0.9590 - val_loss: 3.0404 - val_accuracy: 0.5392\n",
      "Epoch 38/100\n",
      "50000/50000 [==============================] - 16s 312us/step - loss: 0.1152 - accuracy: 0.9624 - val_loss: 3.0526 - val_accuracy: 0.5322\n",
      "Epoch 39/100\n",
      "50000/50000 [==============================] - 16s 311us/step - loss: 0.1199 - accuracy: 0.9597 - val_loss: 2.9589 - val_accuracy: 0.5327\n",
      "Epoch 40/100\n",
      "50000/50000 [==============================] - 16s 313us/step - loss: 0.1118 - accuracy: 0.9632 - val_loss: 2.9642 - val_accuracy: 0.5355\n",
      "Epoch 41/100\n",
      "50000/50000 [==============================] - 16s 313us/step - loss: 0.1132 - accuracy: 0.9631 - val_loss: 3.0567 - val_accuracy: 0.5313\n",
      "Epoch 42/100\n",
      "50000/50000 [==============================] - 16s 313us/step - loss: 0.1113 - accuracy: 0.9633 - val_loss: 3.0111 - val_accuracy: 0.5338\n",
      "Epoch 43/100\n",
      "50000/50000 [==============================] - 16s 315us/step - loss: 0.0975 - accuracy: 0.9674 - val_loss: 3.1884 - val_accuracy: 0.5328\n",
      "Epoch 44/100\n",
      "50000/50000 [==============================] - 16s 314us/step - loss: 0.0996 - accuracy: 0.9673 - val_loss: 3.0181 - val_accuracy: 0.5326\n",
      "Epoch 45/100\n",
      "50000/50000 [==============================] - 16s 314us/step - loss: 0.0974 - accuracy: 0.9681 - val_loss: 3.2554 - val_accuracy: 0.5265\n",
      "Epoch 46/100\n",
      "50000/50000 [==============================] - 16s 314us/step - loss: 0.0969 - accuracy: 0.9683 - val_loss: 3.1158 - val_accuracy: 0.5337\n",
      "Epoch 47/100\n",
      "50000/50000 [==============================] - 16s 312us/step - loss: 0.0960 - accuracy: 0.9682 - val_loss: 3.0217 - val_accuracy: 0.5359\n",
      "Epoch 48/100\n",
      "50000/50000 [==============================] - 16s 315us/step - loss: 0.0953 - accuracy: 0.9689 - val_loss: 3.1049 - val_accuracy: 0.5366\n",
      "Epoch 49/100\n",
      "50000/50000 [==============================] - 16s 323us/step - loss: 0.0980 - accuracy: 0.9687 - val_loss: 3.1830 - val_accuracy: 0.5372\n",
      "Epoch 50/100\n",
      "50000/50000 [==============================] - 16s 326us/step - loss: 0.0895 - accuracy: 0.9704 - val_loss: 3.1938 - val_accuracy: 0.5359\n",
      "Epoch 51/100\n",
      "50000/50000 [==============================] - 16s 313us/step - loss: 0.0931 - accuracy: 0.9705 - val_loss: 3.0000 - val_accuracy: 0.5346\n",
      "Epoch 52/100\n",
      "50000/50000 [==============================] - 16s 315us/step - loss: 0.0909 - accuracy: 0.9704 - val_loss: 2.9867 - val_accuracy: 0.5385\n",
      "Epoch 53/100\n",
      "50000/50000 [==============================] - 16s 313us/step - loss: 0.0871 - accuracy: 0.9718 - val_loss: 3.1409 - val_accuracy: 0.5349\n",
      "Epoch 54/100\n",
      "50000/50000 [==============================] - 16s 314us/step - loss: 0.0788 - accuracy: 0.9754 - val_loss: 3.2558 - val_accuracy: 0.5357\n"
     ]
    },
    {
     "name": "stdout",
     "output_type": "stream",
     "text": [
      "Epoch 55/100\n",
      "50000/50000 [==============================] - 16s 311us/step - loss: 0.0789 - accuracy: 0.9749 - val_loss: 3.1378 - val_accuracy: 0.5366\n",
      "Epoch 56/100\n",
      "50000/50000 [==============================] - 16s 312us/step - loss: 0.0811 - accuracy: 0.9734 - val_loss: 3.1240 - val_accuracy: 0.5460\n",
      "Epoch 57/100\n",
      "50000/50000 [==============================] - 16s 312us/step - loss: 0.0804 - accuracy: 0.9750 - val_loss: 3.0547 - val_accuracy: 0.5422\n",
      "Epoch 58/100\n",
      "50000/50000 [==============================] - 16s 315us/step - loss: 0.0798 - accuracy: 0.9737 - val_loss: 3.1426 - val_accuracy: 0.5393\n",
      "Epoch 59/100\n",
      "50000/50000 [==============================] - 16s 313us/step - loss: 0.0746 - accuracy: 0.9757 - val_loss: 3.3769 - val_accuracy: 0.5336\n",
      "Epoch 60/100\n",
      "50000/50000 [==============================] - 16s 312us/step - loss: 0.0804 - accuracy: 0.9743 - val_loss: 3.1132 - val_accuracy: 0.5353\n",
      "Epoch 61/100\n",
      "50000/50000 [==============================] - 16s 312us/step - loss: 0.0765 - accuracy: 0.9758 - val_loss: 3.5829 - val_accuracy: 0.5369\n",
      "Epoch 62/100\n",
      "50000/50000 [==============================] - 16s 313us/step - loss: 0.0719 - accuracy: 0.9767 - val_loss: 3.3834 - val_accuracy: 0.5439\n",
      "Epoch 63/100\n",
      "50000/50000 [==============================] - 16s 313us/step - loss: 0.0775 - accuracy: 0.9749 - val_loss: 3.3248 - val_accuracy: 0.5421\n",
      "Epoch 64/100\n",
      "50000/50000 [==============================] - 16s 313us/step - loss: 0.0632 - accuracy: 0.9796 - val_loss: 3.3711 - val_accuracy: 0.5374\n",
      "Epoch 65/100\n",
      "50000/50000 [==============================] - 16s 312us/step - loss: 0.0708 - accuracy: 0.9776 - val_loss: 3.4194 - val_accuracy: 0.5394\n",
      "Epoch 66/100\n",
      "50000/50000 [==============================] - 16s 318us/step - loss: 0.0780 - accuracy: 0.9748 - val_loss: 3.2924 - val_accuracy: 0.5353\n",
      "Epoch 67/100\n",
      "50000/50000 [==============================] - 16s 312us/step - loss: 0.0677 - accuracy: 0.9785 - val_loss: 3.0874 - val_accuracy: 0.5387\n",
      "Epoch 68/100\n",
      "50000/50000 [==============================] - 15s 309us/step - loss: 0.0703 - accuracy: 0.9777 - val_loss: 3.1867 - val_accuracy: 0.5356\n",
      "Epoch 69/100\n",
      "50000/50000 [==============================] - 15s 309us/step - loss: 0.0656 - accuracy: 0.9789 - val_loss: 3.4011 - val_accuracy: 0.5337\n",
      "Epoch 70/100\n",
      "50000/50000 [==============================] - 15s 310us/step - loss: 0.0756 - accuracy: 0.9760 - val_loss: 3.2924 - val_accuracy: 0.5332\n",
      "Epoch 71/100\n",
      "50000/50000 [==============================] - 15s 309us/step - loss: 0.0707 - accuracy: 0.9778 - val_loss: 3.0771 - val_accuracy: 0.5331\n",
      "Epoch 72/100\n",
      "50000/50000 [==============================] - 15s 310us/step - loss: 0.0540 - accuracy: 0.9826 - val_loss: 3.4887 - val_accuracy: 0.5334\n",
      "Epoch 73/100\n",
      "50000/50000 [==============================] - 16s 311us/step - loss: 0.0645 - accuracy: 0.9799 - val_loss: 3.2279 - val_accuracy: 0.5367\n",
      "Epoch 74/100\n",
      "50000/50000 [==============================] - 16s 312us/step - loss: 0.0613 - accuracy: 0.9811 - val_loss: 3.5836 - val_accuracy: 0.5410\n",
      "Epoch 75/100\n",
      "50000/50000 [==============================] - 16s 311us/step - loss: 0.0661 - accuracy: 0.9786 - val_loss: 3.3354 - val_accuracy: 0.5392\n",
      "Epoch 76/100\n",
      "50000/50000 [==============================] - 16s 311us/step - loss: 0.0649 - accuracy: 0.9794 - val_loss: 3.3037 - val_accuracy: 0.5430\n",
      "Epoch 77/100\n",
      "50000/50000 [==============================] - 16s 311us/step - loss: 0.0624 - accuracy: 0.9801 - val_loss: 3.1957 - val_accuracy: 0.5398\n",
      "Epoch 78/100\n",
      "50000/50000 [==============================] - 16s 311us/step - loss: 0.0633 - accuracy: 0.9802 - val_loss: 3.2677 - val_accuracy: 0.5348\n",
      "Epoch 79/100\n",
      "50000/50000 [==============================] - 16s 310us/step - loss: 0.0589 - accuracy: 0.9808 - val_loss: 3.4785 - val_accuracy: 0.5356\n",
      "Epoch 80/100\n",
      "50000/50000 [==============================] - 15s 309us/step - loss: 0.0594 - accuracy: 0.9819 - val_loss: 3.6012 - val_accuracy: 0.5349\n",
      "Epoch 81/100\n",
      "50000/50000 [==============================] - 16s 311us/step - loss: 0.0581 - accuracy: 0.9819 - val_loss: 3.3129 - val_accuracy: 0.5369\n",
      "Epoch 82/100\n",
      "50000/50000 [==============================] - 16s 319us/step - loss: 0.0612 - accuracy: 0.9811 - val_loss: 3.3253 - val_accuracy: 0.5431\n",
      "Epoch 83/100\n",
      "50000/50000 [==============================] - 16s 323us/step - loss: 0.0500 - accuracy: 0.9836 - val_loss: 3.5965 - val_accuracy: 0.5461\n",
      "Epoch 84/100\n",
      "50000/50000 [==============================] - 18s 352us/step - loss: 0.0498 - accuracy: 0.9842 - val_loss: 3.9236 - val_accuracy: 0.5438\n",
      "Epoch 85/100\n",
      "50000/50000 [==============================] - 17s 341us/step - loss: 0.0664 - accuracy: 0.9793 - val_loss: 3.5439 - val_accuracy: 0.5362\n",
      "Epoch 86/100\n",
      "50000/50000 [==============================] - 17s 341us/step - loss: 0.0533 - accuracy: 0.9829 - val_loss: 3.4344 - val_accuracy: 0.5449\n",
      "Epoch 87/100\n",
      "50000/50000 [==============================] - 17s 340us/step - loss: 0.0576 - accuracy: 0.9822 - val_loss: 3.4169 - val_accuracy: 0.5383\n",
      "Epoch 88/100\n",
      "50000/50000 [==============================] - 18s 369us/step - loss: 0.0618 - accuracy: 0.9809 - val_loss: 3.7182 - val_accuracy: 0.5354\n",
      "Epoch 89/100\n",
      "50000/50000 [==============================] - 17s 340us/step - loss: 0.0598 - accuracy: 0.9820 - val_loss: 3.5421 - val_accuracy: 0.5374\n",
      "Epoch 90/100\n",
      "50000/50000 [==============================] - 17s 345us/step - loss: 0.0594 - accuracy: 0.9809 - val_loss: 3.4848 - val_accuracy: 0.5373\n",
      "Epoch 91/100\n",
      "50000/50000 [==============================] - 17s 342us/step - loss: 0.0476 - accuracy: 0.9851 - val_loss: 3.4876 - val_accuracy: 0.5412\n",
      "Epoch 92/100\n",
      "50000/50000 [==============================] - 17s 345us/step - loss: 0.0415 - accuracy: 0.9871 - val_loss: 3.7950 - val_accuracy: 0.5337\n",
      "Epoch 93/100\n",
      "50000/50000 [==============================] - 17s 344us/step - loss: 0.0573 - accuracy: 0.9821 - val_loss: 3.3165 - val_accuracy: 0.5366\n",
      "Epoch 94/100\n",
      "50000/50000 [==============================] - 17s 343us/step - loss: 0.0527 - accuracy: 0.9843 - val_loss: 3.6741 - val_accuracy: 0.5364\n",
      "Epoch 95/100\n",
      "50000/50000 [==============================] - 17s 345us/step - loss: 0.0455 - accuracy: 0.9860 - val_loss: 3.4295 - val_accuracy: 0.5408\n",
      "Epoch 96/100\n",
      "50000/50000 [==============================] - 17s 346us/step - loss: 0.0615 - accuracy: 0.9807 - val_loss: 3.4158 - val_accuracy: 0.5406\n",
      "Epoch 97/100\n",
      "50000/50000 [==============================] - 17s 344us/step - loss: 0.0556 - accuracy: 0.9826 - val_loss: 3.4600 - val_accuracy: 0.5394\n",
      "Epoch 98/100\n",
      "50000/50000 [==============================] - 17s 345us/step - loss: 0.0580 - accuracy: 0.9823 - val_loss: 3.6828 - val_accuracy: 0.5451\n",
      "Epoch 99/100\n",
      "50000/50000 [==============================] - 17s 345us/step - loss: 0.0544 - accuracy: 0.9831 - val_loss: 3.7025 - val_accuracy: 0.5494\n",
      "Epoch 100/100\n",
      "50000/50000 [==============================] - 17s 345us/step - loss: 0.0563 - accuracy: 0.9820 - val_loss: 3.4349 - val_accuracy: 0.5466\n"
     ]
    },
    {
     "data": {
      "text/plain": [
       "<keras.callbacks.callbacks.History at 0xca3bc3b4a8>"
      ]
     },
     "execution_count": 17,
     "metadata": {},
     "output_type": "execute_result"
    }
   ],
   "source": [
    "model.fit(x_train, y_train, \n",
    "          epochs=EPOCHS, \n",
    "          batch_size=BATCH_SIZE, \n",
    "          validation_data=(x_test, y_test), \n",
    "          shuffle=True)"
   ]
  },
  {
   "cell_type": "code",
   "execution_count": 18,
   "metadata": {},
   "outputs": [],
   "source": [
    "train_loss=model.history.history['loss']\n",
    "valid_loss=model.history.history['val_loss']\n",
    "train_acc=model.history.history['accuracy']\n",
    "valid_acc=model.history.history['val_accuracy']"
   ]
  },
  {
   "cell_type": "code",
   "execution_count": 22,
   "metadata": {},
   "outputs": [
    {
     "data": {
      "image/png": "[encoded data removed]",
      "text/plain": [
       "<Figure size 432x288 with 1 Axes>"
      ]
     },
     "metadata": {
      "needs_background": "light"
     },
     "output_type": "display_data"
    },
    {
     "data": {
      "image/png": "[encoded data removed]",
      "text/plain": [
       "<Figure size 432x288 with 1 Axes>"
      ]
     },
     "metadata": {
      "needs_background": "light"
     },
     "output_type": "display_data"
    }
   ],
   "source": [
    "import matplotlib.pyplot as plt\n",
    "%matplotlib inline\n",
    "\n",
    "plt.plot(range(EPOCHS),train_loss,'-',label='train_loss')\n",
    "plt.plot(range(EPOCHS),valid_loss,'-',label='valid_loss')\n",
    "plt.legend()\n",
    "plt.title('Loss')\n",
    "plt.grid()\n",
    "plt.show()\n",
    "\n",
    "plt.plot(range(EPOCHS),train_acc,'-',label='train_acc')\n",
    "plt.plot(range(EPOCHS),valid_acc,'-',label='valid_acc')\n",
    "plt.legend()\n",
    "plt.title('Accuracy')\n",
    "plt.grid()\n",
    "plt.show()"
   ]
  },
  {
   "cell_type": "code",
   "execution_count": null,
   "metadata": {},
   "outputs": [],
   "source": []
  }
 ],
 "metadata": {
  "kernelspec": {
   "display_name": "Python 3",
   "language": "python",
   "name": "python3"
  },
  "language_info": {
   "codemirror_mode": {
    "name": "ipython",
    "version": 3
   },
   "file_extension": ".py",
   "mimetype": "text/x-python",
   "name": "python",
   "nbconvert_exporter": "python",
   "pygments_lexer": "ipython3",
   "version": "3.7.3"
  }
 },
 "nbformat": 4,
 "nbformat_minor": 2
}
