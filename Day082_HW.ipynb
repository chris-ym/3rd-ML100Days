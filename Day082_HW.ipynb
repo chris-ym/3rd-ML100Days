{
 "cells": [
  {
   "cell_type": "markdown",
   "metadata": {},
   "source": [
    "## Work\n",
    "1. 請比較使用不同層數以及不同 Dropout rate 對訓練的效果\n",
    "2. 將 optimizer 改成使用 Adam 並加上適當的 dropout rate 檢視結果"
   ]
  },
  {
   "cell_type": "code",
   "execution_count": 1,
   "metadata": {},
   "outputs": [
    {
     "name": "stderr",
     "output_type": "stream",
     "text": [
      "Using TensorFlow backend.\n"
     ]
    }
   ],
   "source": [
    "import os\n",
    "import keras\n",
    "import itertools\n",
    "# Disable GPU\n",
    "os.environ[\"CUDA_VISIBLE_DEVICES\"] = \"\""
   ]
  },
  {
   "cell_type": "code",
   "execution_count": 2,
   "metadata": {},
   "outputs": [],
   "source": [
    "train, test = keras.datasets.cifar10.load_data()"
   ]
  },
  {
   "cell_type": "code",
   "execution_count": 3,
   "metadata": {},
   "outputs": [],
   "source": [
    "## 資料前處理\n",
    "def preproc_x(x, flatten=True):\n",
    "    x = x / 255.\n",
    "    if flatten:\n",
    "        x = x.reshape((len(x), -1))\n",
    "    return x\n",
    "\n",
    "def preproc_y(y, num_classes=10):\n",
    "    if y.shape[-1] == 1:\n",
    "        y = keras.utils.to_categorical(y, num_classes)\n",
    "    return y    "
   ]
  },
  {
   "cell_type": "code",
   "execution_count": 4,
   "metadata": {},
   "outputs": [],
   "source": [
    "x_train, y_train = train\n",
    "x_test, y_test = test\n",
    "\n",
    "# Preproc the inputs\n",
    "x_train = preproc_x(x_train)\n",
    "x_test = preproc_x(x_test)\n",
    "\n",
    "# Preprc the outputs\n",
    "y_train = preproc_y(y_train)\n",
    "y_test = preproc_y(y_test)"
   ]
  },
  {
   "cell_type": "code",
   "execution_count": 8,
   "metadata": {},
   "outputs": [],
   "source": [
    "from keras.layers import Dropout\n",
    "def build_mlp(input_shape, output_units=10, num_neurons=[512, 256, 128], drop_ratio=0.2):\n",
    "    input_layer = keras.layers.Input(input_shape)\n",
    "    \n",
    "    for i, n_units in enumerate(num_neurons):\n",
    "        if i == 0:\n",
    "            x = keras.layers.Dense(units=n_units, \n",
    "                                   activation=\"relu\", \n",
    "                                   name=\"hidden_layer\"+str(i+1))(input_layer)\n",
    "            x = Dropout(drop_ratio)(x)\n",
    "        else:\n",
    "            x = keras.layers.Dense(units=n_units, \n",
    "                                   activation=\"relu\", \n",
    "                                   name=\"hidden_layer\"+str(i+1))(x)\n",
    "            x = Dropout(drop_ratio)(x)\n",
    "    \n",
    "    out = keras.layers.Dense(units=output_units, activation=\"softmax\", name=\"output\")(x)\n",
    "    \n",
    "    model = keras.models.Model(inputs=[input_layer], outputs=[out])\n",
    "    return model"
   ]
  },
  {
   "cell_type": "code",
   "execution_count": 9,
   "metadata": {},
   "outputs": [],
   "source": [
    "#hyperparameter\n",
    "lr_r=5e-3\n",
    "epochs=50\n",
    "batch_size=256\n",
    "momentum=0.95\n",
    "drop_rate=0.25"
   ]
  },
  {
   "cell_type": "code",
   "execution_count": 11,
   "metadata": {
    "scrolled": true
   },
   "outputs": [
    {
     "name": "stdout",
     "output_type": "stream",
     "text": [
      "Model: \"model_2\"\n",
      "_________________________________________________________________\n",
      "Layer (type)                 Output Shape              Param #   \n",
      "=================================================================\n",
      "input_3 (InputLayer)         (None, 3072)              0         \n",
      "_________________________________________________________________\n",
      "hidden_layer1 (Dense)        (None, 512)               1573376   \n",
      "_________________________________________________________________\n",
      "dropout_4 (Dropout)          (None, 512)               0         \n",
      "_________________________________________________________________\n",
      "hidden_layer2 (Dense)        (None, 256)               131328    \n",
      "_________________________________________________________________\n",
      "dropout_5 (Dropout)          (None, 256)               0         \n",
      "_________________________________________________________________\n",
      "hidden_layer3 (Dense)        (None, 128)               32896     \n",
      "_________________________________________________________________\n",
      "dropout_6 (Dropout)          (None, 128)               0         \n",
      "_________________________________________________________________\n",
      "output (Dense)               (None, 10)                1290      \n",
      "=================================================================\n",
      "Total params: 1,738,890\n",
      "Trainable params: 1,738,890\n",
      "Non-trainable params: 0\n",
      "_________________________________________________________________\n",
      "Train on 50000 samples, validate on 10000 samples\n",
      "Epoch 1/50\n",
      "50000/50000 [==============================] - 14s 281us/step - loss: 2.0523 - accuracy: 0.2411 - val_loss: 1.8276 - val_accuracy: 0.3522\n",
      "Epoch 2/50\n",
      "50000/50000 [==============================] - 13s 266us/step - loss: 1.8446 - accuracy: 0.3369 - val_loss: 1.7062 - val_accuracy: 0.3891\n",
      "Epoch 3/50\n",
      "50000/50000 [==============================] - 13s 260us/step - loss: 1.7664 - accuracy: 0.3644 - val_loss: 1.6364 - val_accuracy: 0.4195\n",
      "Epoch 4/50\n",
      "50000/50000 [==============================] - 13s 261us/step - loss: 1.7155 - accuracy: 0.3879 - val_loss: 1.6175 - val_accuracy: 0.4197\n",
      "Epoch 5/50\n",
      "50000/50000 [==============================] - 13s 255us/step - loss: 1.6753 - accuracy: 0.4009 - val_loss: 1.5807 - val_accuracy: 0.4357\n",
      "Epoch 6/50\n",
      "50000/50000 [==============================] - 13s 264us/step - loss: 1.6427 - accuracy: 0.4147 - val_loss: 1.5419 - val_accuracy: 0.4513\n",
      "Epoch 7/50\n",
      "50000/50000 [==============================] - 13s 268us/step - loss: 1.6140 - accuracy: 0.4247 - val_loss: 1.5290 - val_accuracy: 0.4548\n",
      "Epoch 8/50\n",
      "50000/50000 [==============================] - 13s 270us/step - loss: 1.5950 - accuracy: 0.4306 - val_loss: 1.4928 - val_accuracy: 0.4654\n",
      "Epoch 9/50\n",
      "50000/50000 [==============================] - 13s 267us/step - loss: 1.5795 - accuracy: 0.4338 - val_loss: 1.4761 - val_accuracy: 0.4755\n",
      "Epoch 10/50\n",
      "50000/50000 [==============================] - 13s 265us/step - loss: 1.5613 - accuracy: 0.4426 - val_loss: 1.4761 - val_accuracy: 0.4724\n",
      "Epoch 11/50\n",
      "50000/50000 [==============================] - 13s 268us/step - loss: 1.5412 - accuracy: 0.4502 - val_loss: 1.4558 - val_accuracy: 0.4790\n",
      "Epoch 12/50\n",
      "50000/50000 [==============================] - 13s 265us/step - loss: 1.5291 - accuracy: 0.4525 - val_loss: 1.4548 - val_accuracy: 0.4764\n",
      "Epoch 13/50\n",
      "50000/50000 [==============================] - 13s 264us/step - loss: 1.5156 - accuracy: 0.4600 - val_loss: 1.4509 - val_accuracy: 0.4789\n",
      "Epoch 14/50\n",
      "50000/50000 [==============================] - 14s 274us/step - loss: 1.5008 - accuracy: 0.4611 - val_loss: 1.4351 - val_accuracy: 0.4810\n",
      "Epoch 15/50\n",
      "50000/50000 [==============================] - 13s 261us/step - loss: 1.4921 - accuracy: 0.4626 - val_loss: 1.4405 - val_accuracy: 0.4835\n",
      "Epoch 16/50\n",
      "50000/50000 [==============================] - 13s 264us/step - loss: 1.4756 - accuracy: 0.4725 - val_loss: 1.4199 - val_accuracy: 0.4934\n",
      "Epoch 17/50\n",
      "50000/50000 [==============================] - 13s 262us/step - loss: 1.4635 - accuracy: 0.4763 - val_loss: 1.4239 - val_accuracy: 0.4885\n",
      "Epoch 18/50\n",
      "50000/50000 [==============================] - 13s 261us/step - loss: 1.4496 - accuracy: 0.4820 - val_loss: 1.3968 - val_accuracy: 0.4978\n",
      "Epoch 19/50\n",
      "50000/50000 [==============================] - 13s 262us/step - loss: 1.4440 - accuracy: 0.4822 - val_loss: 1.4040 - val_accuracy: 0.4975\n",
      "Epoch 20/50\n",
      "50000/50000 [==============================] - 15s 294us/step - loss: 1.4417 - accuracy: 0.4838 - val_loss: 1.3931 - val_accuracy: 0.5002\n",
      "Epoch 21/50\n",
      "50000/50000 [==============================] - 14s 274us/step - loss: 1.4328 - accuracy: 0.4861 - val_loss: 1.3832 - val_accuracy: 0.5053\n",
      "Epoch 22/50\n",
      "50000/50000 [==============================] - 13s 255us/step - loss: 1.4143 - accuracy: 0.4934 - val_loss: 1.3768 - val_accuracy: 0.5090s - l\n",
      "Epoch 23/50\n",
      "50000/50000 [==============================] - 14s 280us/step - loss: 1.4109 - accuracy: 0.4935 - val_loss: 1.3752 - val_accuracy: 0.5071\n",
      "Epoch 24/50\n",
      "50000/50000 [==============================] - 12s 242us/step - loss: 1.4004 - accuracy: 0.4955 - val_loss: 1.3779 - val_accuracy: 0.5077\n",
      "Epoch 25/50\n",
      "50000/50000 [==============================] - 12s 241us/step - loss: 1.3916 - accuracy: 0.5000 - val_loss: 1.3708 - val_accuracy: 0.5060\n",
      "Epoch 26/50\n",
      "50000/50000 [==============================] - 15s 290us/step - loss: 1.3855 - accuracy: 0.5041 - val_loss: 1.3571 - val_accuracy: 0.5117\n",
      "Epoch 27/50\n",
      "50000/50000 [==============================] - 14s 278us/step - loss: 1.3785 - accuracy: 0.5082 - val_loss: 1.3404 - val_accuracy: 0.5217\n",
      "Epoch 28/50\n",
      "50000/50000 [==============================] - 12s 235us/step - loss: 1.3699 - accuracy: 0.5084 - val_loss: 1.3562 - val_accuracy: 0.5195\n",
      "Epoch 29/50\n",
      "50000/50000 [==============================] - 12s 237us/step - loss: 1.3700 - accuracy: 0.5062 - val_loss: 1.3611 - val_accuracy: 0.5117\n",
      "Epoch 30/50\n",
      "50000/50000 [==============================] - 12s 238us/step - loss: 1.3547 - accuracy: 0.5144 - val_loss: 1.3476 - val_accuracy: 0.5189\n",
      "Epoch 31/50\n",
      "50000/50000 [==============================] - 12s 234us/step - loss: 1.3424 - accuracy: 0.5181 - val_loss: 1.3405 - val_accuracy: 0.5189\n",
      "Epoch 32/50\n",
      "50000/50000 [==============================] - 11s 228us/step - loss: 1.3371 - accuracy: 0.5192 - val_loss: 1.3417 - val_accuracy: 0.5190\n",
      "Epoch 33/50\n",
      "50000/50000 [==============================] - 11s 228us/step - loss: 1.3365 - accuracy: 0.5220 - val_loss: 1.3250 - val_accuracy: 0.5267\n",
      "Epoch 34/50\n",
      "50000/50000 [==============================] - 11s 228us/step - loss: 1.3289 - accuracy: 0.5245 - val_loss: 1.3360 - val_accuracy: 0.5208\n",
      "Epoch 35/50\n",
      "50000/50000 [==============================] - 11s 229us/step - loss: 1.3185 - accuracy: 0.5282 - val_loss: 1.3318 - val_accuracy: 0.5229\n",
      "Epoch 36/50\n",
      "50000/50000 [==============================] - 12s 231us/step - loss: 1.3115 - accuracy: 0.5300 - val_loss: 1.3236 - val_accuracy: 0.5273\n",
      "Epoch 37/50\n",
      "50000/50000 [==============================] - 11s 228us/step - loss: 1.3063 - accuracy: 0.5360 - val_loss: 1.3117 - val_accuracy: 0.5337\n",
      "Epoch 38/50\n",
      "50000/50000 [==============================] - 11s 228us/step - loss: 1.2978 - accuracy: 0.5336 - val_loss: 1.3176 - val_accuracy: 0.5282\n",
      "Epoch 39/50\n",
      "50000/50000 [==============================] - 11s 228us/step - loss: 1.2988 - accuracy: 0.5336 - val_loss: 1.3139 - val_accuracy: 0.5306\n",
      "Epoch 40/50\n",
      "50000/50000 [==============================] - 11s 229us/step - loss: 1.2864 - accuracy: 0.5400 - val_loss: 1.3033 - val_accuracy: 0.5289\n",
      "Epoch 41/50\n",
      "50000/50000 [==============================] - 11s 229us/step - loss: 1.2791 - accuracy: 0.5421 - val_loss: 1.3099 - val_accuracy: 0.5290\n",
      "Epoch 42/50\n",
      "50000/50000 [==============================] - 11s 229us/step - loss: 1.2695 - accuracy: 0.5435 - val_loss: 1.3031 - val_accuracy: 0.5361\n",
      "Epoch 43/50\n",
      "50000/50000 [==============================] - 11s 228us/step - loss: 1.2738 - accuracy: 0.5438 - val_loss: 1.3046 - val_accuracy: 0.5296\n",
      "Epoch 44/50\n",
      "50000/50000 [==============================] - 11s 229us/step - loss: 1.2606 - accuracy: 0.5477 - val_loss: 1.3048 - val_accuracy: 0.5399\n",
      "Epoch 45/50\n",
      "50000/50000 [==============================] - 11s 229us/step - loss: 1.2624 - accuracy: 0.5500 - val_loss: 1.2922 - val_accuracy: 0.5391\n"
     ]
    },
    {
     "name": "stdout",
     "output_type": "stream",
     "text": [
      "Epoch 46/50\n",
      "50000/50000 [==============================] - 11s 228us/step - loss: 1.2515 - accuracy: 0.5517 - val_loss: 1.2965 - val_accuracy: 0.5380\n",
      "Epoch 47/50\n",
      "50000/50000 [==============================] - 12s 230us/step - loss: 1.2472 - accuracy: 0.5529 - val_loss: 1.2889 - val_accuracy: 0.5404\n",
      "Epoch 48/50\n",
      "50000/50000 [==============================] - 11s 228us/step - loss: 1.2422 - accuracy: 0.5556 - val_loss: 1.2899 - val_accuracy: 0.5395\n",
      "Epoch 49/50\n",
      "50000/50000 [==============================] - 12s 232us/step - loss: 1.2276 - accuracy: 0.5578 - val_loss: 1.2864 - val_accuracy: 0.5413\n",
      "Epoch 50/50\n",
      "50000/50000 [==============================] - 12s 247us/step - loss: 1.2301 - accuracy: 0.5586 - val_loss: 1.2916 - val_accuracy: 0.5400\n"
     ]
    }
   ],
   "source": [
    "results = {}\n",
    "\n",
    "model=build_mlp(x_train.shape[1:],drop_ratio=drop_rate)\n",
    "model.summary()\n",
    "optimizer=keras.optimizers.SGD(lr_r,nesterov=True,momentum=momentum)\n",
    "model.compile(loss='categorical_crossentropy',metrics=['accuracy'],optimizer=optimizer)\n",
    "\n",
    "model.fit(x_train,y_train,\n",
    "         epochs=epochs,\n",
    "         batch_size=batch_size,\n",
    "         validation_data=(x_test,y_test),\n",
    "         shuffle=True)\n",
    "\n",
    "# Collect results\n",
    "train_loss = model.history.history[\"loss\"]\n",
    "valid_loss = model.history.history[\"val_loss\"]\n",
    "train_acc = model.history.history[\"accuracy\"]\n",
    "valid_acc = model.history.history[\"val_accuracy\"]"
   ]
  },
  {
   "cell_type": "code",
   "execution_count": 12,
   "metadata": {},
   "outputs": [
    {
     "data": {
      "image/png": "[encoded data removed]",
      "text/plain": [
       "<Figure size 432x288 with 1 Axes>"
      ]
     },
     "metadata": {
      "needs_background": "light"
     },
     "output_type": "display_data"
    },
    {
     "data": {
      "image/png": "[encoded data removed]",
      "text/plain": [
       "<Figure size 432x288 with 1 Axes>"
      ]
     },
     "metadata": {
      "needs_background": "light"
     },
     "output_type": "display_data"
    }
   ],
   "source": [
    "import matplotlib.pyplot as plt\n",
    "%matplotlib inline\n",
    "\n",
    "plt.plot(range(epochs),train_loss,'-',label='train_loss')\n",
    "plt.plot(range(epochs),valid_loss,'--',label='valid_loss')\n",
    "plt.legend()\n",
    "plt.title('Loss')\n",
    "plt.grid()\n",
    "plt.show()\n",
    "\n",
    "plt.plot(range(epochs),train_acc,'-',label='train_acc')\n",
    "plt.plot(range(epochs),valid_acc,'--',label='valid_acc')\n",
    "plt.legend()\n",
    "plt.title('Accuracy')\n",
    "plt.grid()\n",
    "plt.show()"
   ]
  },
  {
   "cell_type": "code",
   "execution_count": null,
   "metadata": {},
   "outputs": [],
   "source": []
  }
 ],
 "metadata": {
  "kernelspec": {
   "display_name": "Python 3",
   "language": "python",
   "name": "python3"
  },
  "language_info": {
   "codemirror_mode": {
    "name": "ipython",
    "version": 3
   },
   "file_extension": ".py",
   "mimetype": "text/x-python",
   "name": "python",
   "nbconvert_exporter": "python",
   "pygments_lexer": "ipython3",
   "version": "3.7.3"
  }
 },
 "nbformat": 4,
 "nbformat_minor": 2
}
