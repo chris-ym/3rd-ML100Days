{
 "cells": [
  {
   "cell_type": "code",
   "execution_count": null,
   "metadata": {},
   "outputs": [],
   "source": [
    "作業問題:\n",
    "1.專案的目標？ (要解決什麼問題）\n",
    "2.使用的技術是？ (只需知道名稱即可，例如：使用 CNN 卷積神經網路做影像分類)\n",
    "3.資料來源？\n",
    "\n",
    "主題:\n",
    "Finding Local Destinations with Siri’s Regionally Specific Language Models for Speech Recognition\n",
    "\n",
    "1.提高apple手機持有者在不同地區變換不同語言的準確性\n",
    "2.定義一組覆蓋美國大部分地區的地理區域（地理區域），並為每個區域構建一個Geo-LM。當用戶發出請求時，系統會根據用戶的當前位置使用Geo-LM進行自定義\n",
    "3. Apple machine learning journal:\n",
    "https://machinelearning.apple.com/2018/08/09/regionally-specific-language-models.html\n"
   ]
  }
 ],
 "metadata": {
  "kernelspec": {
   "display_name": "Python 3",
   "language": "python",
   "name": "python3"
  },
  "language_info": {
   "codemirror_mode": {
    "name": "ipython",
    "version": 3
   },
   "file_extension": ".py",
   "mimetype": "text/x-python",
   "name": "python",
   "nbconvert_exporter": "python",
   "pygments_lexer": "ipython3",
   "version": "3.7.3"
  }
 },
 "nbformat": 4,
 "nbformat_minor": 2
}
