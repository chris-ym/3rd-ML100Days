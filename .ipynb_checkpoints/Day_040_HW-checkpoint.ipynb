{
 "cells": [
  {
   "cell_type": "markdown",
   "metadata": {},
   "source": [
    "## [作業重點]\n",
    "使用 Sklearn 中的 Lasso, Ridge 模型，來訓練各種資料集，務必了解送進去模型訓練的**資料型態**為何，也請了解模型中各項參數的意義。\n",
    "\n",
    "機器學習的模型非常多種，但要訓練的資料多半有固定的格式，確保你了解訓練資料的格式為何，這樣在應用新模型時，就能夠最快的上手開始訓練！"
   ]
  },
  {
   "cell_type": "markdown",
   "metadata": {},
   "source": [
    "## 練習時間\n",
    "試著使用 sklearn datasets 的其他資料集 (boston, ...)，來訓練自己的線性迴歸模型，並加上適當的正則化來觀察訓練情形。"
   ]
  },
  {
   "cell_type": "code",
   "execution_count": 10,
   "metadata": {},
   "outputs": [],
   "source": [
    "import numpy as np\n",
    "import matplotlib.pyplot as plt\n",
    "from sklearn import datasets, linear_model\n",
    "from sklearn.model_selection import train_test_split\n",
    "from sklearn.metrics import mean_squared_error, r2_score"
   ]
  },
  {
   "cell_type": "code",
   "execution_count": 45,
   "metadata": {},
   "outputs": [],
   "source": [
    "??datasets"
   ]
  },
  {
   "cell_type": "code",
   "execution_count": 17,
   "metadata": {},
   "outputs": [],
   "source": [
    "boston=datasets.load_boston()\n",
    "\n",
    "x_train,x_test,y_train,y_test=train_test_split(boston.data,boston.target,test_size=0.2,random_state=42)\n",
    "\n",
    "li=linear_model.LinearRegression()\n",
    "\n",
    "li.fit(x_train,y_train)\n",
    "\n",
    "y_pred=li.predict(x_test)"
   ]
  },
  {
   "cell_type": "code",
   "execution_count": 18,
   "metadata": {},
   "outputs": [
    {
     "name": "stdout",
     "output_type": "stream",
     "text": [
      "[-1.13055924e-01  3.01104641e-02  4.03807204e-02  2.78443820e+00\n",
      " -1.72026334e+01  4.43883520e+00 -6.29636221e-03 -1.44786537e+00\n",
      "  2.62429736e-01 -1.06467863e-02 -9.15456240e-01  1.23513347e-02\n",
      " -5.08571424e-01]\n"
     ]
    }
   ],
   "source": [
    "print(li.coef_)"
   ]
  },
  {
   "cell_type": "code",
   "execution_count": 19,
   "metadata": {},
   "outputs": [
    {
     "name": "stdout",
     "output_type": "stream",
     "text": [
      "Mean Square Error 24.29\n"
     ]
    }
   ],
   "source": [
    "print('Mean Square Error %.2f'% mean_squared_error(y_test,y_pred))"
   ]
  },
  {
   "cell_type": "markdown",
   "metadata": {},
   "source": [
    "## LASSO"
   ]
  },
  {
   "cell_type": "code",
   "execution_count": 33,
   "metadata": {},
   "outputs": [],
   "source": [
    "boston=datasets.load_boston()\n",
    "\n",
    "x_train,x_test,y_train,y_test=train_test_split(boston.data,boston.target,test_size=0.2,random_state=42)\n",
    "\n",
    "la=linear_model.Lasso(alpha=.1)\n",
    "\n",
    "la.fit(x_train,y_train)\n",
    "\n",
    "y_pred=la.predict(x_test)"
   ]
  },
  {
   "cell_type": "code",
   "execution_count": 34,
   "metadata": {},
   "outputs": [
    {
     "name": "stdout",
     "output_type": "stream",
     "text": [
      "[-0.10415691  0.03489335 -0.01678527  0.91995182 -0.          4.31168655\n",
      " -0.01512583 -1.15148729  0.23923695 -0.01296223 -0.73224678  0.01309057\n",
      " -0.56467442]\n"
     ]
    }
   ],
   "source": [
    "print(la.coef_)"
   ]
  },
  {
   "cell_type": "code",
   "execution_count": 35,
   "metadata": {},
   "outputs": [
    {
     "name": "stdout",
     "output_type": "stream",
     "text": [
      "Mean Square Error in Lasso 25.16\n"
     ]
    }
   ],
   "source": [
    "print('Mean Square Error in Lasso %.2f'% mean_squared_error(y_test,y_pred))"
   ]
  },
  {
   "cell_type": "markdown",
   "metadata": {},
   "source": [
    "## Ridge"
   ]
  },
  {
   "cell_type": "code",
   "execution_count": 40,
   "metadata": {},
   "outputs": [],
   "source": [
    "boston=datasets.load_boston()\n",
    "\n",
    "x_train,x_test,y_train,y_test=train_test_split(boston.data,boston.target,test_size=0.2,random_state=42)\n",
    "\n",
    "rg=linear_model.Ridge(alpha=1)\n",
    "\n",
    "rg.fit(x_train,y_train)\n",
    "\n",
    "y_pred=rg.predict(x_test)"
   ]
  },
  {
   "cell_type": "code",
   "execution_count": 41,
   "metadata": {},
   "outputs": [
    {
     "name": "stdout",
     "output_type": "stream",
     "text": [
      "[-1.09234061e-01  3.22706863e-02  7.49805942e-03  2.54546998e+00\n",
      " -9.53795159e+00  4.46450537e+00 -1.21910176e-02 -1.33870040e+00\n",
      "  2.48881816e-01 -1.14746211e-02 -8.28604284e-01  1.26421124e-02\n",
      " -5.23833016e-01]\n"
     ]
    }
   ],
   "source": [
    "print(rg.coef_)"
   ]
  },
  {
   "cell_type": "code",
   "execution_count": 42,
   "metadata": {},
   "outputs": [
    {
     "name": "stdout",
     "output_type": "stream",
     "text": [
      "Mean Square Error in Ridge 24.48\n"
     ]
    }
   ],
   "source": [
    "print('Mean Square Error in Ridge %.2f'% mean_squared_error(y_test,y_pred))"
   ]
  },
  {
   "cell_type": "markdown",
   "metadata": {},
   "source": [
    "# breast cancer"
   ]
  },
  {
   "cell_type": "code",
   "execution_count": 46,
   "metadata": {},
   "outputs": [],
   "source": [
    "#linear regression\n",
    "breast_cancer=datasets.load_breast_cancer()\n",
    "\n",
    "x_train,x_test,y_train,y_test=train_test_split(breast_cancer.data,breast_cancer.target,test_size=0.2,random_state=42)\n",
    "\n",
    "li=linear_model.LinearRegression()\n",
    "\n",
    "li.fit(x_train,y_train)\n",
    "\n",
    "y_pred=li.predict(x_test)"
   ]
  },
  {
   "cell_type": "code",
   "execution_count": 47,
   "metadata": {},
   "outputs": [
    {
     "name": "stdout",
     "output_type": "stream",
     "text": [
      "[ 1.97130218e-01 -2.79472278e-03 -2.27758664e-02 -3.28622398e-04\n",
      "  4.11490191e-01  5.00171192e+00 -1.00587030e+00 -4.91570446e+00\n",
      "  3.38393701e-01 -5.81425644e+00 -4.32261922e-01  1.26325368e-02\n",
      "  8.24736376e-03  1.24507529e-03 -1.80785086e+01  2.20798677e+00\n",
      "  4.27375913e+00 -1.81589526e+01  1.19449435e+00  3.01203668e+00\n",
      " -2.14438989e-01 -9.61718848e-03  8.71176397e-03  9.61253395e-04\n",
      " -1.32384962e-01 -7.62670138e-01 -6.15742798e-01  1.32619828e+00\n",
      " -1.02113249e+00 -1.27363832e+00]\n"
     ]
    }
   ],
   "source": [
    "print(li.coef_)"
   ]
  },
  {
   "cell_type": "code",
   "execution_count": 48,
   "metadata": {},
   "outputs": [
    {
     "name": "stdout",
     "output_type": "stream",
     "text": [
      "Mean Squared Error : 0.06\n"
     ]
    }
   ],
   "source": [
    "print('Mean Squared Error : %.2f'% mean_squared_error(y_test,y_pred))"
   ]
  },
  {
   "cell_type": "code",
   "execution_count": 53,
   "metadata": {},
   "outputs": [],
   "source": [
    "#LASSO \n",
    "breast_cancer=datasets.load_breast_cancer()\n",
    "\n",
    "x_train,x_test,y_train,y_test=train_test_split(breast_cancer.data,breast_cancer.target,test_size=0.2,random_state=42)\n",
    "\n",
    "la=linear_model.Lasso(alpha=1)\n",
    "\n",
    "la.fit(x_train,y_train)\n",
    "\n",
    "y_pred=la.predict(x_test)"
   ]
  },
  {
   "cell_type": "code",
   "execution_count": 54,
   "metadata": {},
   "outputs": [
    {
     "name": "stdout",
     "output_type": "stream",
     "text": [
      "[-0.00000000e+00 -0.00000000e+00 -0.00000000e+00 -0.00000000e+00\n",
      " -0.00000000e+00 -0.00000000e+00 -0.00000000e+00 -0.00000000e+00\n",
      " -0.00000000e+00 -0.00000000e+00 -0.00000000e+00 -0.00000000e+00\n",
      " -0.00000000e+00  5.44364352e-05 -0.00000000e+00 -0.00000000e+00\n",
      " -0.00000000e+00 -0.00000000e+00 -0.00000000e+00 -0.00000000e+00\n",
      " -0.00000000e+00 -0.00000000e+00 -3.21298988e-03 -4.31901616e-04\n",
      " -0.00000000e+00 -0.00000000e+00 -0.00000000e+00 -0.00000000e+00\n",
      " -0.00000000e+00 -0.00000000e+00]\n"
     ]
    }
   ],
   "source": [
    "print(la.coef_)"
   ]
  },
  {
   "cell_type": "code",
   "execution_count": 55,
   "metadata": {},
   "outputs": [
    {
     "name": "stdout",
     "output_type": "stream",
     "text": [
      "Mean Squared Error : 0.09\n"
     ]
    }
   ],
   "source": [
    "print('Mean Squared Error : %.2f'% mean_squared_error(y_test,y_pred))"
   ]
  },
  {
   "cell_type": "code",
   "execution_count": 56,
   "metadata": {},
   "outputs": [],
   "source": [
    "#Ridge\n",
    "breast_cancer=datasets.load_breast_cancer()\n",
    "\n",
    "x_train,x_test,y_train,y_test=train_test_split(breast_cancer.data,breast_cancer.target,test_size=0.2,random_state=42)\n",
    "\n",
    "rg=linear_model.Ridge(alpha=1)\n",
    "\n",
    "rg.fit(x_train,y_train)\n",
    "\n",
    "y_pred=rg.predict(x_test)"
   ]
  },
  {
   "cell_type": "code",
   "execution_count": 57,
   "metadata": {},
   "outputs": [
    {
     "name": "stdout",
     "output_type": "stream",
     "text": [
      "[ 0.21039773 -0.001186   -0.00862853 -0.00123115 -0.13737775  0.03902819\n",
      " -0.20874322 -0.27065909 -0.12301856 -0.01027737 -0.22976589 -0.00236558\n",
      " -0.00558645  0.00102943 -0.0467556   0.12929252  0.26835508 -0.02040484\n",
      " -0.02858238  0.01580615 -0.2691754  -0.01135383  0.00702348  0.00129893\n",
      " -0.31307618 -0.09571972 -0.32041083 -0.37396925 -0.37874071 -0.05797718]\n"
     ]
    }
   ],
   "source": [
    "print(rg.coef_)"
   ]
  },
  {
   "cell_type": "code",
   "execution_count": 58,
   "metadata": {},
   "outputs": [
    {
     "name": "stdout",
     "output_type": "stream",
     "text": [
      "Mean Squared Error : 0.06\n"
     ]
    }
   ],
   "source": [
    "print('Mean Squared Error : %.2f'% mean_squared_error(y_test,y_pred))"
   ]
  },
  {
   "cell_type": "code",
   "execution_count": null,
   "metadata": {},
   "outputs": [],
   "source": [
    "ridge之alpha設置相較於lasso之懲罰低了許多\n",
    "避免因懲罰而造成許多coef為0"
   ]
  }
 ],
 "metadata": {
  "kernelspec": {
   "display_name": "Python 3",
   "language": "python",
   "name": "python3"
  },
  "language_info": {
   "codemirror_mode": {
    "name": "ipython",
    "version": 3
   },
   "file_extension": ".py",
   "mimetype": "text/x-python",
   "name": "python",
   "nbconvert_exporter": "python",
   "pygments_lexer": "ipython3",
   "version": "3.7.3"
  }
 },
 "nbformat": 4,
 "nbformat_minor": 2
}
