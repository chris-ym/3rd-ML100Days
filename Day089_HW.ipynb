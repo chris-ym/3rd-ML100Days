{
 "cells": [
  {
   "cell_type": "markdown",
   "metadata": {},
   "source": [
    "## Work\n",
    "1. 請自行定義一個 loss function, 為 0.3 * focal loss + 0.7 cross-entropy，訓練並比較結果\n"
   ]
  },
  {
   "cell_type": "code",
   "execution_count": 1,
   "metadata": {},
   "outputs": [
    {
     "name": "stderr",
     "output_type": "stream",
     "text": [
      "Using TensorFlow backend.\n"
     ]
    }
   ],
   "source": [
    "import os\n",
    "import keras\n",
    "\n",
    "# Disable GPU\n",
    "os.environ[\"CUDA_VISIBLE_DEVICES\"] = \"\""
   ]
  },
  {
   "cell_type": "code",
   "execution_count": 2,
   "metadata": {},
   "outputs": [],
   "source": [
    "train, test = keras.datasets.cifar10.load_data()"
   ]
  },
  {
   "cell_type": "code",
   "execution_count": 3,
   "metadata": {},
   "outputs": [],
   "source": [
    "## 資料前處理\n",
    "def preproc_x(x, flatten=True):\n",
    "    x = x / 255.\n",
    "    if flatten:\n",
    "        x = x.reshape((len(x), -1))\n",
    "    return x\n",
    "\n",
    "def preproc_y(y, num_classes=10):\n",
    "    if y.shape[-1] == 1:\n",
    "        y = keras.utils.to_categorical(y, num_classes)\n",
    "    return y    "
   ]
  },
  {
   "cell_type": "code",
   "execution_count": 4,
   "metadata": {},
   "outputs": [],
   "source": [
    "x_train, y_train = train\n",
    "x_test, y_test = test\n",
    "\n",
    "# Preproc the inputs\n",
    "x_train = preproc_x(x_train)\n",
    "x_test = preproc_x(x_test)\n",
    "\n",
    "# Preprc the outputs\n",
    "y_train = preproc_y(y_train)\n",
    "y_test = preproc_y(y_test)"
   ]
  },
  {
   "cell_type": "code",
   "execution_count": 5,
   "metadata": {},
   "outputs": [],
   "source": [
    "from keras.layers import BatchNormalization\n",
    "def build_mlp(input_shape, output_units=10, num_neurons=[512, 256, 128]):\n",
    "    input_layer = keras.layers.Input(input_shape)\n",
    "    \n",
    "    for i, n_units in enumerate(num_neurons):\n",
    "        if i == 0:\n",
    "            x = keras.layers.Dense(units=n_units, \n",
    "                                   activation=\"relu\", \n",
    "                                   name=\"hidden_layer\"+str(i+1))(input_layer)\n",
    "            x = BatchNormalization()(x)\n",
    "        else:\n",
    "            x = keras.layers.Dense(units=n_units, \n",
    "                                   activation=\"relu\", \n",
    "                                   name=\"hidden_layer\"+str(i+1))(x)\n",
    "            x = BatchNormalization()(x)\n",
    "    \n",
    "    out = keras.layers.Dense(units=output_units, activation=\"softmax\", name=\"output\")(x)\n",
    "    \n",
    "    model = keras.models.Model(inputs=[input_layer], outputs=[out])\n",
    "    return model"
   ]
  },
  {
   "cell_type": "code",
   "execution_count": 6,
   "metadata": {},
   "outputs": [],
   "source": [
    "## 超參數設定\n",
    "LEARNING_RATE = 1e-3\n",
    "EPOCHS = 25\n",
    "BATCH_SIZE = 1024\n",
    "MOMENTUM = 0.95"
   ]
  },
  {
   "cell_type": "code",
   "execution_count": 7,
   "metadata": {},
   "outputs": [],
   "source": [
    "import tensorflow as tf\n",
    "import keras.backend as K\n",
    "\n",
    "def combined_loss(para, gamma=2., alpha=4.):\n",
    "    \n",
    "    gamma = float(gamma)\n",
    "    alpha = float(alpha)\n",
    "    \n",
    "    \"\"\"Define the customized loss.\"\"\"\n",
    "    def combined_loss_keras(y_true, y_pred):\n",
    "        \n",
    "        epsilon = 1e-8\n",
    "        y_true = tf.convert_to_tensor(y_true, tf.float32)\n",
    "        y_pred = tf.convert_to_tensor(y_pred, tf.float32)\n",
    "\n",
    "        model_out = tf.add(y_pred, epsilon)\n",
    "        \n",
    "        ce = tf.multiply(y_true, -tf.math.log(model_out)) # cross entropy\n",
    "        weight = tf.multiply(y_true, tf.pow(tf.subtract(1., model_out), gamma)) # weight\n",
    "        fl = tf.multiply(alpha, tf.multiply(weight, ce)) # focal_loss\n",
    "        \n",
    "        reduced_fl = tf.reduce_max(fl, axis=1) # reduced cross entropy\n",
    "        reduced_ce = tf.reduce_max(ce, axis=1) # reduced focal_loss\n",
    "#       ce_loss    = keras.losses.categorical_crossentropy(y_true, y_pred) # # 參考解答版本\n",
    "        \n",
    "        # 定義一個 loss function, 為 0.3 * focal loss + 0.7 cross-entropy (比例不要寫死)\n",
    "        return tf.reduce_mean((1-para) * reduced_fl + (para) * reduced_ce)\n",
    "#       return (ce_weights*ce_loss) + (fcl_weights*tf.reduce_mean(reduced_fl) ) # # 參考解答版本\n",
    "    \n",
    "    return combined_loss_keras\n"
   ]
  },
  {
   "cell_type": "code",
   "execution_count": 8,
   "metadata": {
    "scrolled": true
   },
   "outputs": [
    {
     "name": "stdout",
     "output_type": "stream",
     "text": [
      "Model: \"model_1\"\n",
      "_________________________________________________________________\n",
      "Layer (type)                 Output Shape              Param #   \n",
      "=================================================================\n",
      "input_1 (InputLayer)         (None, 3072)              0         \n",
      "_________________________________________________________________\n",
      "hidden_layer1 (Dense)        (None, 512)               1573376   \n",
      "_________________________________________________________________\n",
      "batch_normalization_1 (Batch (None, 512)               2048      \n",
      "_________________________________________________________________\n",
      "hidden_layer2 (Dense)        (None, 256)               131328    \n",
      "_________________________________________________________________\n",
      "batch_normalization_2 (Batch (None, 256)               1024      \n",
      "_________________________________________________________________\n",
      "hidden_layer3 (Dense)        (None, 128)               32896     \n",
      "_________________________________________________________________\n",
      "batch_normalization_3 (Batch (None, 128)               512       \n",
      "_________________________________________________________________\n",
      "output (Dense)               (None, 10)                1290      \n",
      "=================================================================\n",
      "Total params: 1,742,474\n",
      "Trainable params: 1,740,682\n",
      "Non-trainable params: 1,792\n",
      "_________________________________________________________________\n",
      "Train on 50000 samples, validate on 10000 samples\n",
      "Epoch 1/25\n",
      "50000/50000 [==============================] - 9s 185us/step - loss: 4.8712 - accuracy: 0.3234 - val_loss: 5.0696 - val_accuracy: 0.2296\n",
      "Epoch 2/25\n",
      "50000/50000 [==============================] - 6s 128us/step - loss: 3.5725 - accuracy: 0.4371 - val_loss: 4.4110 - val_accuracy: 0.3303\n",
      "Epoch 3/25\n",
      "50000/50000 [==============================] - 6s 128us/step - loss: 3.2607 - accuracy: 0.4758 - val_loss: 3.9815 - val_accuracy: 0.3803\n",
      "Epoch 4/25\n",
      "50000/50000 [==============================] - 6s 124us/step - loss: 3.0585 - accuracy: 0.5013 - val_loss: 3.6458 - val_accuracy: 0.4207\n",
      "Epoch 5/25\n",
      "50000/50000 [==============================] - 6s 112us/step - loss: 2.8969 - accuracy: 0.5221 - val_loss: 3.3966 - val_accuracy: 0.4466\n",
      "Epoch 6/25\n",
      "50000/50000 [==============================] - 7s 148us/step - loss: 2.7628 - accuracy: 0.5395 - val_loss: 3.3537 - val_accuracy: 0.4534\n",
      "Epoch 7/25\n",
      "50000/50000 [==============================] - 6s 128us/step - loss: 2.6410 - accuracy: 0.5532 - val_loss: 3.2509 - val_accuracy: 0.4681\n",
      "Epoch 8/25\n",
      "50000/50000 [==============================] - 6s 126us/step - loss: 2.5223 - accuracy: 0.5691 - val_loss: 3.1913 - val_accuracy: 0.4787\n",
      "Epoch 9/25\n",
      "50000/50000 [==============================] - 7s 142us/step - loss: 2.4191 - accuracy: 0.5860 - val_loss: 3.2286 - val_accuracy: 0.4732\n",
      "Epoch 10/25\n",
      "50000/50000 [==============================] - 7s 133us/step - loss: 2.3128 - accuracy: 0.5986 - val_loss: 3.1162 - val_accuracy: 0.4900\n",
      "Epoch 11/25\n",
      "50000/50000 [==============================] - 6s 124us/step - loss: 2.2072 - accuracy: 0.6165 - val_loss: 3.1524 - val_accuracy: 0.4926\n",
      "Epoch 12/25\n",
      "50000/50000 [==============================] - 6s 124us/step - loss: 2.1113 - accuracy: 0.6288 - val_loss: 3.1611 - val_accuracy: 0.4884\n",
      "Epoch 13/25\n",
      "50000/50000 [==============================] - 6s 129us/step - loss: 2.0225 - accuracy: 0.6419 - val_loss: 3.2721 - val_accuracy: 0.4688\n",
      "Epoch 14/25\n",
      "50000/50000 [==============================] - 6s 127us/step - loss: 1.9284 - accuracy: 0.6577 - val_loss: 3.1928 - val_accuracy: 0.4856\n",
      "Epoch 15/25\n",
      "50000/50000 [==============================] - 6s 125us/step - loss: 1.8376 - accuracy: 0.6688 - val_loss: 3.1886 - val_accuracy: 0.4934\n",
      "Epoch 16/25\n",
      "50000/50000 [==============================] - 7s 132us/step - loss: 1.7559 - accuracy: 0.6810 - val_loss: 3.2413 - val_accuracy: 0.4780\n",
      "Epoch 17/25\n",
      "50000/50000 [==============================] - 7s 136us/step - loss: 1.6686 - accuracy: 0.6946 - val_loss: 3.3342 - val_accuracy: 0.4770\n",
      "Epoch 18/25\n",
      "50000/50000 [==============================] - 6s 127us/step - loss: 1.5756 - accuracy: 0.7113 - val_loss: 3.2720 - val_accuracy: 0.4891\n",
      "Epoch 19/25\n",
      "50000/50000 [==============================] - 6s 125us/step - loss: 1.4946 - accuracy: 0.7242 - val_loss: 3.3414 - val_accuracy: 0.4833\n",
      "Epoch 20/25\n",
      "50000/50000 [==============================] - 6s 123us/step - loss: 1.4145 - accuracy: 0.7355 - val_loss: 3.3421 - val_accuracy: 0.4883\n",
      "Epoch 21/25\n",
      "50000/50000 [==============================] - 7s 130us/step - loss: 1.3298 - accuracy: 0.7500 - val_loss: 3.3418 - val_accuracy: 0.4983\n",
      "Epoch 22/25\n",
      "50000/50000 [==============================] - 7s 140us/step - loss: 1.2619 - accuracy: 0.7613 - val_loss: 3.4001 - val_accuracy: 0.4903\n",
      "Epoch 23/25\n",
      "50000/50000 [==============================] - 7s 142us/step - loss: 1.1829 - accuracy: 0.7759 - val_loss: 3.3749 - val_accuracy: 0.4959\n",
      "Epoch 24/25\n",
      "50000/50000 [==============================] - 8s 155us/step - loss: 1.1074 - accuracy: 0.7886 - val_loss: 3.5025 - val_accuracy: 0.4863\n",
      "Epoch 25/25\n",
      "50000/50000 [==============================] - 8s 150us/step - loss: 1.0400 - accuracy: 0.7997 - val_loss: 3.6766 - val_accuracy: 0.4807\n"
     ]
    }
   ],
   "source": [
    "import itertools\n",
    "results = {}\n",
    "\n",
    "\n",
    "\n",
    "model = build_mlp(input_shape=x_train.shape[1:])\n",
    "model.summary()\n",
    "optimizer = keras.optimizers.SGD(lr=LEARNING_RATE, nesterov=True, momentum=MOMENTUM)\n",
    "model.compile(loss = combined_loss(0.3), metrics=[\"accuracy\"], optimizer=optimizer)\n",
    "\n",
    "model.fit(x_train, y_train,\n",
    "          epochs=EPOCHS, \n",
    "          batch_size=BATCH_SIZE, \n",
    "          validation_data=(x_test, y_test), \n",
    "          shuffle=True)\n",
    "    \n",
    "    # Collect results\n",
    "train_loss=model.history.history[\"loss\"]\n",
    "valid_loss=model.history.history[\"val_loss\"]\n",
    "train_acc=model.history.history[\"accuracy\"]\n",
    "valid_acc=model.history.history[\"val_accuracy\"]"
   ]
  },
  {
   "cell_type": "code",
   "execution_count": 13,
   "metadata": {},
   "outputs": [
    {
     "data": {
      "image/png": "[encoded data removed]",
      "text/plain": [
       "<Figure size 576x432 with 1 Axes>"
      ]
     },
     "metadata": {
      "needs_background": "light"
     },
     "output_type": "display_data"
    },
    {
     "data": {
      "image/png": "[encoded data removed]",
      "text/plain": [
       "<Figure size 576x432 with 1 Axes>"
      ]
     },
     "metadata": {
      "needs_background": "light"
     },
     "output_type": "display_data"
    }
   ],
   "source": [
    "import matplotlib.pyplot as plt\n",
    "import matplotlib.cm as mplcm\n",
    "import matplotlib.colors as colors\n",
    "%matplotlib inline\n",
    "NUM_COLORS = len(results.keys())\n",
    "\n",
    "cm = plt.get_cmap('gist_rainbow')\n",
    "cNorm  = colors.Normalize(vmin=0, vmax=NUM_COLORS-1)\n",
    "scalarMap = mplcm.ScalarMappable(norm=cNorm, cmap=cm)\n",
    "color_bar = [scalarMap.to_rgba(i) for i in range(NUM_COLORS)]\n",
    "\n",
    "plt.figure(figsize=(8,6))\n",
    "\n",
    "plt.plot(range(len(train_loss)),train_loss, '-', label='train_loss')\n",
    "plt.plot(range(len(valid_loss)),valid_loss, '--', label='valid_loss')\n",
    "plt.title(\"Loss\")\n",
    "plt.legend(loc='center left', bbox_to_anchor=(1, 0.5))\n",
    "plt.show()\n",
    "\n",
    "plt.figure(figsize=(8,6))\n",
    "\n",
    "plt.plot(range(len(train_acc)),train_acc, '-', label='train_acc')\n",
    "plt.plot(range(len(valid_acc)),valid_acc, '--', label='valid_acc')\n",
    "plt.title(\"Accuracy\")\n",
    "plt.legend(loc='center left', bbox_to_anchor=(1, 0.5))\n",
    "plt.show()"
   ]
  },
  {
   "cell_type": "code",
   "execution_count": null,
   "metadata": {},
   "outputs": [],
   "source": []
  }
 ],
 "metadata": {
  "kernelspec": {
   "display_name": "Python 3",
   "language": "python",
   "name": "python3"
  },
  "language_info": {
   "codemirror_mode": {
    "name": "ipython",
    "version": 3
   },
   "file_extension": ".py",
   "mimetype": "text/x-python",
   "name": "python",
   "nbconvert_exporter": "python",
   "pygments_lexer": "ipython3",
   "version": "3.7.3"
  }
 },
 "nbformat": 4,
 "nbformat_minor": 2
}
