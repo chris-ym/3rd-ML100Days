{
 "cells": [
  {
   "cell_type": "markdown",
   "metadata": {},
   "source": [
    "# 作業\n",
    "* 試著想想看, 非監督學習是否有可能使用評價函數 (Metric) 來鑑別好壞呢?  \n",
    "(Hint : 可以分為 \"有目標值\" 與 \"無目標值\" 兩個方向思考)"
   ]
  },
  {
   "cell_type": "markdown",
   "metadata": {
    "collapsed": true
   },
   "source": [
    "https://ek21.com/news/tech/21376/\n",
    "非監督式並無目標值，因此沒有一個評定標準去判斷分群的好壞，須由人工判斷，然而還是有一些評估的指標，例如:凝聚度、分離度、輪廓係數等\n",
    "\n",
    "1.凝聚度:對於已聚類數據中的樣本，計算該樣本與同一類簇中的所有其他樣本距離的平均值。\n",
    "\n",
    "2.分離度:分離度（separation）：選取一個樣本，計算該樣本與該樣本外的一個類簇內的所有樣本的平均距離，遍歷所有其他類簇，找到最近的這個平均距離。\n",
    "\n",
    "3.輪廓係數:適用於實際目標信息未知的情況。它同時兼顧了聚類的凝聚度 和 分離度。輪廓系數計算公式為：s=（b−a）/max(a, b)\n",
    "\n",
    "對於單個樣本，設a是與它同類簇中其他樣本的平均距離，b是與它距離最近不同類簇中樣本的平均距離。對於一個樣本集合，它的輪廓系數是所有樣本輪廓系數的平均值。同類別樣本越距離相近且不同類別樣本距離越遠，聚類效果最佳。\n",
    "\n",
    "輪廓系數取值範圍是[−1,1]，如果系數小於0，說明樣本的內部距離大於最近的類簇，表示聚類小區不好；如果系數系數接近於1，說明樣本的內部距離遠遠小於最近的類簇，表示效果較好。"
   ]
  }
 ],
 "metadata": {
  "kernelspec": {
   "display_name": "Python 3",
   "language": "python",
   "name": "python3"
  },
  "language_info": {
   "codemirror_mode": {
    "name": "ipython",
    "version": 3
   },
   "file_extension": ".py",
   "mimetype": "text/x-python",
   "name": "python",
   "nbconvert_exporter": "python",
   "pygments_lexer": "ipython3",
   "version": "3.7.3"
  }
 },
 "nbformat": 4,
 "nbformat_minor": 1
}
