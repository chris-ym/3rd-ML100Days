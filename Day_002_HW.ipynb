{
 "cells": [
  {
   "cell_type": "code",
   "execution_count": null,
   "metadata": {},
   "outputs": [],
   "source": [
    "作業問題:請找出一個你認為機器學習可以發光發熱的領域並闡述原因?\n",
    "\n",
    "醫療診斷:\n",
    "其一為影像判讀，透過大量的data訓練，讓電腦可以自行判斷病患是否罹患疾病，以肺腺癌舉例來說，若有大量肺腺癌病患的醫學影像，經過machine learning之後，能夠自行判讀病患是否罹患肺腺癌，如此便能大幅降低人工影像判讀的時間，加快醫院產生報告的時間(但目前診斷的準確率還不甚理想)；另一則是病人床生理資訊的預測，透過大量病人的心跳、血壓、每分鐘呼吸次數等紀錄，透過量化資料得到不同臨床數據的background，藉此進行machine learning，並且統計在多少的變異程度可能會有甚麼樣的疾病(例如:高血壓等)，藉此能夠達到疾病的預防。\n",
    "\n",
    "在醫療診斷這方面，機器學習的成果還有甚大的進步空間，加上近年來生醫產業的蓬勃發展，對於這方面的機器訓練顯得更加重要與發展潛力。\n"
   ]
  }
 ],
 "metadata": {
  "kernelspec": {
   "display_name": "Python 3",
   "language": "python",
   "name": "python3"
  },
  "language_info": {
   "codemirror_mode": {
    "name": "ipython",
    "version": 3
   },
   "file_extension": ".py",
   "mimetype": "text/x-python",
   "name": "python",
   "nbconvert_exporter": "python",
   "pygments_lexer": "ipython3",
   "version": "3.7.3"
  }
 },
 "nbformat": 4,
 "nbformat_minor": 2
}
